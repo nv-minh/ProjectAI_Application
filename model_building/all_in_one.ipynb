{
 "cells": [
  {
   "cell_type": "code",
   "execution_count": 1,
   "metadata": {
    "ExecuteTime": {
     "end_time": "2023-07-04T08:24:33.306559600Z",
     "start_time": "2023-07-04T08:24:30.227059Z"
    }
   },
   "outputs": [],
   "source": [
    "import entity_tagging\n",
    "import utils\n",
    "import argparse\n",
    "from datetime import datetime\n",
    "import pandas as pd\n",
    "import pickle\n",
    "from sklearn.model_selection import KFold\n",
    "import numpy as np"
   ]
  },
  {
   "cell_type": "code",
   "execution_count": 2,
   "metadata": {
    "ExecuteTime": {
     "end_time": "2023-07-04T08:24:41.111059500Z",
     "start_time": "2023-07-04T08:24:41.100559100Z"
    }
   },
   "outputs": [],
   "source": [
    "def load_corpus_xlsx(filename):\n",
    "    corpus = pd.read_excel(filename, dtype={'msg': str})\n",
    "    list_label = corpus['class'].to_list()\n",
    "    list_content = corpus['msg'].to_list()\n",
    "\n",
    "    return list_label, list_content"
   ]
  },
  {
   "cell_type": "markdown",
   "source": [],
   "metadata": {
    "collapsed": false
   }
  },
  {
   "cell_type": "code",
   "execution_count": 3,
   "metadata": {
    "ExecuteTime": {
     "end_time": "2023-07-04T08:25:11.548558500Z",
     "start_time": "2023-07-04T08:25:10.240074500Z"
    }
   },
   "outputs": [],
   "source": [
    "list_label, list_content = load_corpus_xlsx('../message_modified_v1.2.xlsx')"
   ]
  },
  {
   "cell_type": "code",
   "execution_count": 4,
   "metadata": {
    "ExecuteTime": {
     "end_time": "2023-07-04T08:25:20.974560400Z",
     "start_time": "2023-07-04T08:25:13.072059Z"
    }
   },
   "outputs": [],
   "source": [
    "list_content = entity_tagging.entity_tagging(list_content)"
   ]
  },
  {
   "cell_type": "code",
   "execution_count": 5,
   "metadata": {
    "ExecuteTime": {
     "end_time": "2023-07-04T08:25:23.726061500Z",
     "start_time": "2023-07-04T08:25:23.703561100Z"
    }
   },
   "outputs": [],
   "source": [
    "classifier_list = ['svm']"
   ]
  },
  {
   "cell_type": "markdown",
   "metadata": {},
   "source": [
    "# Begin test"
   ]
  },
  {
   "cell_type": "markdown",
   "metadata": {},
   "source": [
    "# End test"
   ]
  },
  {
   "cell_type": "code",
   "execution_count": 6,
   "metadata": {
    "ExecuteTime": {
     "end_time": "2023-07-04T08:25:43.320560300Z",
     "start_time": "2023-07-04T08:25:43.293561Z"
    }
   },
   "outputs": [],
   "source": [
    "def train_evaluation(list_label, list_content, vectorize_method, classifier_list):\n",
    "\n",
    "    if vectorize_method == 'bow':\n",
    "        list_content_vec, list_label, list_len_sms, dictionary = utils.doc_2_vec(list_content, list_label, 'bow')\n",
    "    for i in classifier_list:\n",
    "        list_false_positive, list_false_negative, list_true_positive, list_true_negative = \\\n",
    "        utils.kfold_classification(list_content, list_content_vec, list_label, i, 5, vectorize_method)\n",
    "        print('Evaluation for ' + i.upper())\n",
    "        utils.evaluation(list_false_positive, list_false_negative, list_true_positive, list_true_negative)\n",
    "        print('-------------------------------------------------')"
   ]
  },
  {
   "cell_type": "code",
   "execution_count": 39,
   "metadata": {
    "ExecuteTime": {
     "end_time": "2023-07-04T08:45:44.785061Z",
     "start_time": "2023-07-04T08:45:44.771091800Z"
    }
   },
   "outputs": [],
   "source": [
    "def train_entire_dataset(list_content, list_label, vectorize_method):\n",
    "    list_content_vec, list_label, list_len_sms, dictionary = utils.doc_2_vec(list_content, list_label, vectorize_method)\n",
    "    clf = utils.build_classifier_svm(list_content_vec, list_label)\n",
    "    pickle.dump(clf, open(r'C:\\Users\\MINH.NV193012\\Desktop\\20222\\Spam_detection_heroku_app\\bow_svm_clf.pkl', 'wb'))\n",
    "    print('Traning Done!')"
   ]
  },
  {
   "cell_type": "code",
   "execution_count": 40,
   "metadata": {
    "ExecuteTime": {
     "end_time": "2023-07-04T08:45:46.025558900Z",
     "start_time": "2023-07-04T08:45:45.127060100Z"
    }
   },
   "outputs": [
    {
     "name": "stdout",
     "output_type": "stream",
     "text": [
      "(6310, 2063)\n",
      "[[ 4]\n",
      " [21]\n",
      " [ 7]\n",
      " ...\n",
      " [34]\n",
      " [24]\n",
      " [42]]\n",
      "Dictionary<2062 unique tokens: ['như_cũ', 'vẫn', 'á', 'b', 'bên']...>\n",
      "Traning Done!\n"
     ]
    }
   ],
   "source": [
    "train_entire_dataset(list_content, list_label,'bow')"
   ]
  },
  {
   "cell_type": "code",
   "execution_count": 9,
   "metadata": {
    "ExecuteTime": {
     "end_time": "2023-07-04T08:27:39.033562Z",
     "start_time": "2023-07-04T08:27:37.630560400Z"
    }
   },
   "outputs": [
    {
     "name": "stdout",
     "output_type": "stream",
     "text": [
      "Evaluation for SVM\n",
      "False Positive Rate: 1.3351819116360293%\n",
      "False Negative Rate: 18.79865045453338%\n",
      "True Positive Rate: 81.20134954546663%\n",
      "True Negative Rate: 98.66481808836397%\n",
      "-------------------------------------------------\n"
     ]
    }
   ],
   "source": [
    "train_evaluation(list_label, list_content, 'bow', classifier_list)"
   ]
  },
  {
   "cell_type": "code",
   "execution_count": 9,
   "metadata": {
    "ExecuteTime": {
     "end_time": "2023-07-04T08:27:49.372561100Z",
     "start_time": "2023-07-04T08:27:49.366559400Z"
    }
   },
   "outputs": [],
   "source": []
  },
  {
   "cell_type": "code",
   "execution_count": null,
   "metadata": {},
   "outputs": [],
   "source": []
  }
 ],
 "metadata": {
  "interpreter": {
   "hash": "029daf65db69d531e3e790e61475ea6f82ab3ad35fbaaf2f645ae9dad464b799"
  },
  "kernelspec": {
   "display_name": "Python 3.7.8 64-bit ('spam_detection_libs': venv)",
   "language": "python",
   "name": "python3"
  },
  "language_info": {
   "codemirror_mode": {
    "name": "ipython",
    "version": 3
   },
   "file_extension": ".py",
   "mimetype": "text/x-python",
   "name": "python",
   "nbconvert_exporter": "python",
   "pygments_lexer": "ipython3",
   "version": "3.7.8"
  },
  "orig_nbformat": 4
 },
 "nbformat": 4,
 "nbformat_minor": 2
}
