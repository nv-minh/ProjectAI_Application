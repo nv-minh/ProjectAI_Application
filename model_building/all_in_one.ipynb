{
 "cells": [
  {
   "cell_type": "code",
   "execution_count": 45,
   "outputs": [],
   "source": [
    "# import library\n",
    "import pandas as pd\n",
    "from sklearn.model_selection import train_test_split\n",
    "from sklearn.feature_extraction.text import CountVectorizer\n",
    "from sklearn.naive_bayes import MultinomialNB\n",
    "from sklearn.metrics import classification_report\n",
    "import joblib\n",
    "import matplotlib.pyplot as plt\n",
    "import seaborn as sns\n",
    "from sklearn.metrics import confusion_matrix"
   ],
   "metadata": {
    "collapsed": false,
    "ExecuteTime": {
     "end_time": "2023-07-06T13:39:18.043925700Z",
     "start_time": "2023-07-06T13:39:18.038426200Z"
    }
   }
  },
  {
   "cell_type": "code",
   "execution_count": 32,
   "outputs": [],
   "source": [
    "# read dataset from excel\n",
    "data_path = '../message_modified_v1.2.xlsx'\n",
    "data = pd.read_excel(data_path)\n",
    "\n",
    "# Rename columns\n",
    "data = data.rename(columns={\"msg\": \"content\", \"class\": \"label\"})\n",
    "data['content'] = data['content'].astype(str)\n",
    "data.loc[:, 'label'] = data.label.map({'ham': 0, 'spam': 1})"
   ],
   "metadata": {
    "collapsed": false,
    "ExecuteTime": {
     "end_time": "2023-07-06T13:30:28.655924900Z",
     "start_time": "2023-07-06T13:30:28.343425400Z"
    }
   }
  },
  {
   "cell_type": "code",
   "execution_count": 37,
   "outputs": [
    {
     "name": "stdout",
     "output_type": "stream",
     "text": [
      "              precision    recall  f1-score   support\n",
      "\n",
      "           0       0.98      0.98      0.98      1060\n",
      "           1       0.89      0.88      0.88       202\n",
      "\n",
      "    accuracy                           0.96      1262\n",
      "   macro avg       0.93      0.93      0.93      1262\n",
      "weighted avg       0.96      0.96      0.96      1262\n",
      "\n"
     ]
    },
    {
     "data": {
      "text/plain": "['../count_vectorizer.pkl']"
     },
     "execution_count": 37,
     "metadata": {},
     "output_type": "execute_result"
    }
   ],
   "source": [
    "# Split of training and test sets\n",
    "X_train, X_test, y_train, y_test = train_test_split(data['content'], data['label'], test_size=0.2, random_state=1)\n",
    "y_train = y_train.astype(int)\n",
    "y_test = y_test.astype(int)\n",
    "# Build CountVectorizer and transform data\n",
    "count_vectorizer = CountVectorizer()\n",
    "training_data = count_vectorizer.fit_transform(X_train)\n",
    "testing_data = count_vectorizer.transform(X_test)\n",
    "\n",
    "# Naive Bayes model training\n",
    "naive_bayes = MultinomialNB()\n",
    "naive_bayes.fit(training_data, y_train)\n",
    "\n",
    "# Evaluate the model on the test set\n",
    "predictions = naive_bayes.predict(testing_data)\n",
    "print(classification_report(y_test, predictions))\n",
    "\n",
    "# Save model and CountVectorizer\n",
    "joblib.dump(naive_bayes, '../naive_bayes_model.pkl')\n",
    "joblib.dump(count_vectorizer, '../count_vectorizer.pkl')\n"
   ],
   "metadata": {
    "collapsed": false,
    "ExecuteTime": {
     "end_time": "2023-07-06T13:33:39.274426200Z",
     "start_time": "2023-07-06T13:33:39.142425300Z"
    }
   }
  },
  {
   "cell_type": "code",
   "execution_count": 48,
   "outputs": [
    {
     "name": "stdout",
     "output_type": "stream",
     "text": [
      "Prediction: spam\n"
     ]
    }
   ],
   "source": [
    "# Spam or ham prediction function for a piece of text\n",
    "def predict_spam_or_ham(input_string):\n",
    "    # Load the trained model and CountVectorizer\n",
    "    naive_bayes = joblib.load('../naive_bayes_model.pkl')\n",
    "    count_vectorizer = joblib.load('../count_vectorizer.pkl')\n",
    "    # Preprocess the input string\n",
    "    preprocessed_input = count_vectorizer.transform([input_string])\n",
    "    # Make the prediction\n",
    "    prediction = naive_bayes.predict(preprocessed_input)\n",
    "    return prediction[0]\n",
    "# test\n",
    "input_text = \"Mung le 2/9, eSMS giảm dong loat 10% cho moi doanh nghiep su dung cac san pham (tên sản phẩm). Thoi gian ap dung ke tu ngay 25/8 - 31/8. Xem chi tiet tai (link).\"\n",
    "prediction = predict_spam_or_ham(input_text)\n",
    "print(f\"Prediction: {'ham' if prediction == 0 else 'spam'}\")"
   ],
   "metadata": {
    "collapsed": false,
    "ExecuteTime": {
     "end_time": "2023-07-06T13:44:48.263925Z",
     "start_time": "2023-07-06T13:44:48.243426100Z"
    }
   }
  },
  {
   "cell_type": "code",
   "execution_count": 47,
   "outputs": [
    {
     "data": {
      "text/plain": "<Figure size 800x600 with 2 Axes>",
      "image/png": "[encoded data removed]"
     },
     "metadata": {},
     "output_type": "display_data"
    },
    {
     "name": "stdout",
     "output_type": "stream",
     "text": [
      "Accuracy: 0.9627575277337559\n",
      "Precision: 0.8894472361809045\n",
      "Recall: 0.8762376237623762\n",
      "Specificity: 0.9792452830188679\n",
      "F1 Score: 0.8827930174563591\n"
     ]
    }
   ],
   "source": [
    "\n",
    "# calculator confusion matrix\n",
    "cm = confusion_matrix(y_test, predictions)\n",
    "\n",
    "# Draw a confusion matrix\n",
    "plt.figure(figsize=(8, 6))\n",
    "sns.heatmap(cm, annot=True, fmt=\"d\", cmap=\"Blues\")\n",
    "plt.title(\"Confusion Matrix\")\n",
    "plt.xlabel(\"Predicted Label\")\n",
    "plt.ylabel(\"True Label\")\n",
    "plt.show()\n",
    "\n",
    "# calculator confusion matrix\n",
    "cm = confusion_matrix(y_test, predictions)\n",
    "\n",
    "TN = cm[0, 0]\n",
    "FP = cm[0, 1]\n",
    "FN = cm[1, 0]\n",
    "TP = cm[1, 1]\n",
    "\n",
    "total_samples = len(y_test)\n",
    "accuracy = (TP + TN) / total_samples\n",
    "precision = TP / (TP + FP)\n",
    "recall = TP / (TP + FN)\n",
    "specificity = TN / (TN + FP)\n",
    "f1_score = 2 * (precision * recall) / (precision + recall)\n",
    "\n",
    "print(\"Accuracy:\", accuracy)\n",
    "print(\"Precision:\", precision)\n",
    "print(\"Recall:\", recall)\n",
    "print(\"Specificity:\", specificity)\n",
    "print(\"F1 Score:\", f1_score)\n"
   ],
   "metadata": {
    "collapsed": false,
    "ExecuteTime": {
     "end_time": "2023-07-06T13:43:00.168925700Z",
     "start_time": "2023-07-06T13:43:00.037423600Z"
    }
   }
  },
  {
   "cell_type": "code",
   "execution_count": 47,
   "outputs": [],
   "source": [],
   "metadata": {
    "collapsed": false,
    "ExecuteTime": {
     "end_time": "2023-07-06T13:44:14.414926Z",
     "start_time": "2023-07-06T13:44:14.406958800Z"
    }
   }
  },
  {
   "cell_type": "code",
   "execution_count": null,
   "outputs": [],
   "source": [],
   "metadata": {
    "collapsed": false
   }
  }
 ],
 "metadata": {
  "interpreter": {
   "hash": "029daf65db69d531e3e790e61475ea6f82ab3ad35fbaaf2f645ae9dad464b799"
  },
  "kernelspec": {
   "display_name": "Python 3.7.8 64-bit ('spam_detection_libs': venv)",
   "language": "python",
   "name": "python3"
  },
  "language_info": {
   "codemirror_mode": {
    "name": "ipython",
    "version": 3
   },
   "file_extension": ".py",
   "mimetype": "text/x-python",
   "name": "python",
   "nbconvert_exporter": "python",
   "pygments_lexer": "ipython3",
   "version": "3.7.8"
  },
  "orig_nbformat": 4
 },
 "nbformat": 4,
 "nbformat_minor": 2
}
