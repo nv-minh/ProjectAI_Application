{
 "cells": [
  {
   "cell_type": "code",
   "execution_count": 30,
   "metadata": {
    "ExecuteTime": {
     "end_time": "2023-07-03T09:20:49.443023700Z",
     "start_time": "2023-07-03T09:20:49.433528Z"
    }
   },
   "outputs": [],
   "source": [
    "import entity_tagging\n",
    "import utils\n",
    "import argparse\n",
    "from datetime import datetime\n",
    "import pandas as pd\n",
    "import pickle\n",
    "from sklearn.model_selection import KFold\n",
    "import numpy as np"
   ]
  },
  {
   "cell_type": "code",
   "execution_count": 31,
   "metadata": {
    "ExecuteTime": {
     "end_time": "2023-07-03T09:20:49.927023400Z",
     "start_time": "2023-07-03T09:20:49.906524300Z"
    }
   },
   "outputs": [],
   "source": [
    "def load_corpus_xlsx(filename):\n",
    "    corpus = pd.read_excel(filename, dtype={'msg': str})\n",
    "    list_label = corpus['class'].to_list()\n",
    "    list_content = corpus['msg'].to_list()\n",
    "\n",
    "    return list_label, list_content"
   ]
  },
  {
   "cell_type": "code",
   "execution_count": 32,
   "metadata": {
    "ExecuteTime": {
     "end_time": "2023-07-03T09:20:51.676024400Z",
     "start_time": "2023-07-03T09:20:51.202024100Z"
    }
   },
   "outputs": [],
   "source": [
    "list_label, list_content = load_corpus_xlsx('./message_modified_v1.2.xlsx')"
   ]
  },
  {
   "cell_type": "code",
   "execution_count": 33,
   "metadata": {
    "ExecuteTime": {
     "end_time": "2023-07-03T09:20:58.342022900Z",
     "start_time": "2023-07-03T09:20:51.679523500Z"
    }
   },
   "outputs": [],
   "source": [
    "list_content = entity_tagging.entity_tagging(list_content)"
   ]
  },
  {
   "cell_type": "code",
   "execution_count": 34,
   "metadata": {
    "ExecuteTime": {
     "end_time": "2023-07-03T09:21:00.777523600Z",
     "start_time": "2023-07-03T09:21:00.770524800Z"
    }
   },
   "outputs": [],
   "source": [
    "classifier_list = ['nb', 'svm', 'dt', 'knn', 'maxent', 'baseline']"
   ]
  },
  {
   "cell_type": "code",
   "execution_count": 35,
   "outputs": [
    {
     "data": {
      "text/plain": "['vẫn như cũ á',\n 'k bạn ơi mk đang dùng gói f16 bên bạn thấy bảo sắp chuyển sang gói f22 nên hỏi b ạ',\n 'nhà anh dùng truền hình số fpt',\n 'mình đang bận chắc cho kĩ thuật qua à',\n 'đúng rồi em',\n 'cố gắng giúp anh cảm ơn em',\n 'vậy ở tỉnh thì khách có phải đặt cọc tiền modem đầu thu fpt tv khi có nhu cầu lắp không vậy bạn',\n 'hiện tại bên em không phải là bộ phận tư vấn lắp mới nên không rõ về vấn đề trên ạ chính sách lắp đặt còn phụ thuộc vào từng chi nhánh',\n 'mình có hỗ trợ đc ở đây ko hay phải gọi lên tổng đài ạ',\n 'ngõ number doãn kế thiện mai dịch cầu giấy hà nội',\n 'check giùm mình thông tin trên đc k',\n 'truyen hinh sắp hết hạn đúng k b',\n 'giờ cũng được',\n 'em xin phép liên hệ anh ạ',\n 'phạm hoàng ca number number number number date b nguyễn thị minh khai ninh kiều tp cần thơ',\n 'ko còn cách nào ạ',\n 'sao chưa có vậy không thì gửi qua gmail skirahoanganh gmail com',\n 'có kịp xem đâu mà lần cuối',\n 'mình muốn cắt không dùng tivi nữa thì làm như nào',\n 'mạng càng ngày càng tệ ngưng sử dụng',\n 'được rồi vừa chắc do lỗi mình vừa rút nguồn ra khởi động lại được rồi ad',\n 'vậy là 230k thuế number à',\n 'đâu ai yêu cầu tăng tốc độ mà công ty tự ý tăng r tính phí trong khi vnpt viettel tăng gấp đôi mà k tăng tiền',\n 'để xuống công ty cắt hợp đồng luôn ạ',\n 'đội cứu trợ cún con paw patrol phần number phần number phần number em à mỗi phần có mấy chục tập',\n 'nhưng hôm qua anh về thấy mất hết trương trình cho anh hỏi đó là do đâu và có cách nào khôi phục được không vậy em cảm ơn em',\n 'm chuyển chỗ m muốn dki ms ơe tân mai ạ',\n 'để tiện trao đổi em xin phép liên hệ anh qua số phone được không ạ',\n 'ko biết bị sao',\n 'phạm thị xuân',\n 'xem hnay có kỹ thuật viên đến xem mạng nhà mình k nhỉ',\n 'check giùm mình số hợp đồng này',\n 'tốc độ không qua nổi 100kb',\n 'chào anh chị ạ',\n 'ngày mai a có thể cho người xuống xử lý hộ e ko',\n 'h xu ly nhu nao day a',\n 'anh ơi em có chút băn khoăn tiếp',\n 'em có thấy emoticon',\n 'bạn ơi hợp đồng mình sgfd83733 có đọc thì từ date nghe nói sẽ quy hoạch sang băng thông mới là super65 nhưng hiện mình k có nhu cầu nâng cấp và hiện nay mình k xài nhiều nên muốn xuống super35 thì phải làm thế nào với lại cái modem cũ fpt mình xài cũng hơn number năm rồi giờ mình muốn đổi sang cục mới được k vì thấy nó h cứ chập chờn quá',\n 'gói super number phí hàng tháng là bn ạ',\n 'bên bạn còn bộ phát wifi number râu tp link tl wr841n k ạ',\n 'sao vô lí quá vậy',\n 'fpt telecom bán tl wr841n hoặc tl wr841nd tùy thiết bị vật tư tại chi nhánh ạ',\n 'để tiện trao đổi em xin phép liên hệ anh qua số phone được không ạ',\n 'để tiện trao đổi em xin phép liên hệ chị yến qua số phone được không ạ',\n 'vâng cho e hỏi dọa này mạng nhà e chập chờn',\n 'à tên chủ hợp đồng là phạm thị thanh xuân ạ',\n 'bạn thay luôn tên của mình thành số hợp động luôn',\n 'anh lộc ở đà nẵng đúng không ạ',\n 'bạn có cái củ phát wifi có chữ fpt k ạ',\n 'bên a có ther cho người xuống xử lý giúp e ko ạ',\n 'địa chỉ dự án swanbay hoa sen đại phước xã đại phước nhơn trạch đồng nai',\n 'hay là do cáp quang bị đứt hả ad',\n 'tại em mới reset máy hay sao ý nên nó cuw bị ping cao',\n 'bên thanh toán có thể gọi lại giúp mình đc ko',\n 'mấy ngày nay em để ý sao coi youtube hay lướt facebook nó load lâu thế ad nhỉ',\n 'bấm điều khiển thể nào cũng k tắt được thiết bỉ',\n 'trong khi fpt tuyên bố tăng băng thông cho khách hàng thì chuyện bóp băng thông mỗi buổi tối diễn ra thường xuyên hơn thậm chí rất thường xuyên gần đây',\n 'nên mình không hề thấy việc tăng băng thông có ích chỗ nào ngoài việc fpt sẽ thu thêm một khoản cước tăng từ khách hàng',\n 'mình sử dụng fpt number năm rồi ko được khuyến mãi hay nâng cấp bất cứ gì',\n 'cho hỏi phí thanh toán number thang có ưu đãi như thế nào',\n 'bạn ơi cái mình cần là cải thiện chất lượng dịch vụ chứ không phải là những hứa hẹn xuôi từ tổng đài',\n 'giá number thiết bị này phải k bạn',\n 'sáng nay và sáng hôm qua đều có support liên hệ mình rồi',\n 'số điện thoại cuae anh phone hoặc có thể phone xóm mới thôn dền di trạch hoài đức hà nội số hợp đồng anh không nhớ',\n 'vâng cảm ơn bạn',\n 'kt giup munh xem',\n 'hd nha munh sap het han chua',\n 'mình chỉ yêu cầu fpt xem lại chính sách này thôi nếu tăng băng thông thì không tăng giá còn không thì áp dụng tăng băng thông cho ai có nhu cầu thôi tại sao lại bắt mình cung cấp số điện thoại chi nữa',\n 'a xem có thể xuống hổ trợ bên e bên e gửi phí lại ạ',\n 'ad tối ưu lạincho em đc ko',\n 'hỏi luôn là giờ mà gọi lại bảo là reset modern thì cũng bằng hòa',\n 'icon á hay avatar',\n 'ad có thể trợ giúp mình được k k hiểu sao đầu fpt nhà mình k hoạt động nữa',\n 'mình k có nhu cầu bạn à nên muốn xuống gói cước do h k xài nhìu',\n 'sau quy hoạch thì giá cước vẫn không thay đổi ạ',\n 'nhà mình hiện này đang xài gói fiber bussines 65m',\n '65m chỉ có 400k number tháng',\n 'giá 800k number tháng',\n 'để em báo hệ thống thử reboot tín hiệu rồi anh test lại thử ạ',\n 'giá bao nhiêu vậy shop',\n 'cu nhà anh rất thích xem đội cứu trợ cún con paw patrol đặc biệt là lúc ăn',\n 'để tiện trao đổi em xin phép liên hệ anh qua số phone được không ạ',\n 'vì vợ anh cất trong két',\n 'cảm ơn bạn',\n 'hiện tại modem number băng tần đang được triển khai ở tp hcm và hà nội ạ khi nào triển khai rộng rãi ở các tỉnh fpt sẽ truyền thông sau',\n 'cái loại mà có chữ fpt in trên bộ phát wifi ý ạ',\n 'nhưng nhà em ko ở gần cây cột điện vì nhà em phải mua lại điện của người ta',\n 'e bên dự án swanbay hoa sen đại phước cần dc hỗ trợ ạ',\n 'mình thấy tổng đai gọi báo',\n 'vì em sắp chuyển trọ nên em muốn hủy gói mạng đang sử dụng em phải làm thủ tục gì ạ',\n 'bên e là dự án',\n 'mã hợp đồng hnd618403',\n 'bên e ko có ai bik về mạng mà giờ gaowj vấn đề ko sử dụng đc',\n 'a giúp dùm e với',\n 'chỗ mình mất điện mấy lần chắc ảnh hiong',\n 'cho anh hỏi chút việc',\n 'sao v hỏi k nói ak',\n 'cũng đc bạn ạ cám ơn bạn',\n 'phone mà h mình đang bận rồi tầm khoảng date tối bên mình có làm k nhĩ',\n 'number number chưa thuế vat',\n 'bình thường mạng sử dụng cũng có được đâu vào number number cái điện thoại thì lát quay vòng vòng gọi nhân viên sửa được number number ngày mạng xài được qua mấy ngày sau lại bị như zị',\n 'bạn có mẫu không gửi mình xem được k ạ',\n 'em thấy anh đang sử dụng number đường truyền internet ở hoàng mai không rõ anh muốn ký thêm hay như nào ạ',\n 'cmnd phone',\n 'lúc trước đăng ký hợp đồng wifi fpt tôi lấy số điện thoại của mẹ tôi đăng ký giờ tôi muốn thay đổi số điện torng hợp đồng thành số điện thoại của tôi thì dủng cách nào vậy sdt hiện trong hợp đồng là phone muốn thanh đổi thành phone để tiện liên lạc và nhận thông tin',\n 'sdt phone',\n 'để tiện trao đổi anh vui lòng cung cấp cho fpt số điện thoại để bên em liên hệ được không ạ',\n '70d931dbdca6',\n 'hay internet',\n 'dow host trung quốc thì không thể mê được',\n 'ko rành về mạng',\n 'a cứ qua bên e',\n 'ok để mình xem email',\n 'acct của chị phần fb cũng trắng ko thấy mục chat',\n 'mình vừa vào đuoc rồi',\n 'không hiểu sao nhưng đọc thông tin và test thử thì băng thông đi trung quốc cực thấp có khi sang mỹ còn nhanh hơn rất nhiều',\n 'mà bây giờ còn bị xem thường như vậy nữa',\n 'anh lâm có đang ở nhà không ạ',\n 'cho hỏi là trước kia tôi có đăng ký sử dụng gói mạng là f5 27mb giá 242k tháng bao gồm vat giờ fpt thay đổi dịch vụ chuyển gói dịch vụ f5 thành super50 50mb 310k tháng bao gồm vat hiện giờ là super50 thời hạn sử dụng của tôi là đến date là hết sau thời gian đó tôi có thể chuyển qua gói super35 225k thang bao gồm vat dc ko vậy',\n 'hàng chính hãng phải k bạn',\n 'fpt telecom xin chào anh ạ em có thể phục vụ anh thông tin gì không ạ',\n 'bạn cho mình hỏi luôn khi đăng ký lắp internet ở các thành phố tỉnh làm thế nào để được lắp loại modem number băng tần vậy bạn',\n 'm muốn lắp mạng',\n 'sgh293371 tên huỳnh ngọc nhật',\n 'ad kiểm tra giúp mình',\n 'thấy bên bạn đang có ctrinh khuyên mại t5 này nếu lắp internet cáp quang t5 này là 205k t 35mbps và miễn phí lắp đặt modem wifi cũng free phải k ạ',\n 'sau date có được nâng tốc độ và nâng giá cước k',\n 'mình ở cùng bạn nó là người đăng kí dùng chứ mình chưa dki bao giờ bạn ạ',\n 'do bên dự án ko có it',\n 'mấy ngày trước có người xuống sửa mạng chuyển đổi sever j đó nhưng máy photo bên phòng e thì ko có chuyển',\n 'mình ko đăng nhập được member fpt vn',\n 'là nhận đk ngay à',\n 'a có quen biết thì giới thiệu number anh qua làm ngoài giờ giúp e được ko ạ',\n 'thay đc ava up đc ảnh rồi á emoticon',\n 'cho mk hỏi phí hàng tháng sau khi chuyển gói là bn v',\n 'kiểm tra rồi nhưng mạng vẫn vậy dù 35mb chỉ chơi game online nhẹ vẫn bị rớt mạng',\n 'đây cũng là ưu đãi dành cho khách hàng lâu năm của fpt ạ',\n 'nếu vậy thôi k sử dụng nữa',\n 'mà gói mới super number của fpt',\n 'ở mục thiều nhi em à',\n 'thế mk muốn đổi modem khác dc k loại number băng tần ấy',\n 'k date tôn thất đạm',\n 'đúng rôid bạn',\n 'mình đã từng sử dụng r bạn',\n 'nên thành ra hiện tại ko kết nối được',\n 'phone vũ đồng thành',\n 'số number ngõ number ngách number ngách number ngõ number phương mai đống đa hà nội ạ',\n 'nên hd này nọ e ko bik',\n 'nếu giải thích là tại sao thì hãy gọi cũng được',\n 'kt và bên e trả phí ạ',\n 'huynh long số hd bdfd85653',\n 'dt phone',\n 'em chào anh long ạ em xin phép liên hệ sđt phone của anh ạ',\n 'phone khổng tấn đức number date bến vân đồn phường number quận number',\n 'bạn ad phản hồi giúp mình hợp đồng vlfd03910 nhà mình k có nhu cầu đổi gói cước tăng giá nha từ 16mb lên 22mb có là bao nhiêu đâu mà còn tăng giá',\n 'cứ vài ngày là lại không cập nhật chương trình coi lại của đài truyền hình vĩnh long number gia đình đang theo dõi phim về mở để coi lại không coi được nên rất dễ ức chế',\n 'toàn bộ bị gỡ xuống vào tối ngày number gỡ trước hạn tận number ngày',\n 'cho mình hỏi thuê bao hnd145666 muốn cắt hợp đồng thì làm thế nào nhỉ',\n 'được bạn gọi điện mình nghe',\n 'gmail cua toi chua nhan duoc tin nao tu fpt hoi trua noi number phut gui wa nhung chua nhan duoc',\n 'hạn gỡ là number tháng number',\n 'gui hoa don thanh toan cuoc number thang cho toi qua email khoaprohip gmail com nha',\n 'phone nha ad',\n 'em hết tiền đt r ad ơi 😅',\n 'cho e hoi e muon nang cap goi cuoc su dung phai lam gi goi cuoc e su dung 278k thang',\n 'fpt telecom xin chào anh ạ',\n 'có cách nào k',\n 'chua nhan duoc hoa don',\n 'ad còn cách nào ko hướng dẫn đi em lm cho gọn ạ',\n 'để tiện trao đổi em xin phép liên hệ anh qua số phone được không ạ',\n 'để tiện trao đổi em xin phép liên hệ anh qua số phone được không ạ',\n 'chương trình coi lại đài truyền hình vĩnh long number hôm nay là ngày number nhưng đài không cập nhật chương trình hôm nay mà chỉ có coi lại của ngày number',\n 'đang trong chuỗi rồi ad ạ',\n 'hiện tại đường truyền nhà anh đạt đã có hóa đơn online rồi ạ anh có thể thực hiện thanh toán qua https fpt vn pay vi auth',\n 'trương phương thúy phone number ngõ number ngách number ngô sĩ liên',\n 'e dang ban number ty tam 30p nua e se nt',\n 'không rõ anh đạt đã thanh toán hóa đơn chưa ạ',\n 'để tiện trao đổi em xin phép liên hệ anh qua số phone được không ạ',\n 'không rõ được không ạ',\n 'mà lại xóa trước hạn thì xem kiểu gì',\n 'ko tìm thấy',\n 'fpt telecom xin chào anh ạ',\n 'anh vui lòng cung cấp thêm thông tin về hợp đồng sđt họ tên chủ thuê bao địa chỉ lắp đặt để em kiểm tra ạ',\n 'em xin phép liên hệ sđt phone của anh ạ',\n 'ad cho e 10p nữa đc k',\n 'dể em khởi động',\n 'anh vui lòng cung cấp thêm thông tin về hợp đồng sđt họ tên chủ thuê bao địa chỉ lắp đặt để em kiểm tra ạ',\n 'địa chỉ văn phòng giao dich lô date đường d9 kdc chánh nghĩa p chánh nghĩa thủ dầu một bình dương',\n 'fpt nên có trách nhiệm chút không cập nhật lịch tv hd cứ vài ngày là vậy nhất là chương trình xem lại của đài truyền hình vĩnh long',\n 'fpt sẽ gọi trực tiếp cho anh ạ',\n 'còn nếy fpt muốn nâng dịch vụ thì nâng hợp đồng mình lên gói s35 với báo giá bao nhiêu cho mình biết lun',\n 'sdt phone',\n 'cho mình hỏi từ lúc nhà mình lắp modum thì mạng rất yếu khó vô các trang web nước ngoài và các web xem phim online thank admin',\n 'anh thử khởi động lại modem để bên em cập nhật lại tín hiệu từ trên hệ thống xem được không ạ',\n 'hồi xưa thì lướt nhanh sau khi thay modum mới thì chậm hẳn thậm chí khó vô các web nuoc ngoài',\n 'em mới bật mở lại mà ad',\n 'mình vừa chuyển chỗ nên muốn lắp mạng mới',\n 'nên h nhờ sự tư vấn ạ',\n 'sao của e lại lên giá ad nhỉ',\n 'anh vui lòng cung cấp thêm thông tin về hợp đồng sđt họ tên chủ thuê bao địa chỉ lắp đặt để em kiểm tra ạ',\n 'fpt telecom xin chào anh ạ em có thể phục vụ anh thông tin gì không ạ',\n 'cách modem 2m',\n 'nhà chỉ number thiết bị',\n 'fpt telecom xin chào chú ạ',\n 'o number thuy jhue',\n 'đến tối các anh có đóng băng thông nước ngoài không thì mở ra giúp em',\n 'phạm văn ngọc',\n 'trong khi đó mình lướt face và xem video các thứ vẫn rất rất ổn nhưng chỉ cần number kết nối game của nước ngoài thì ko vào được và ngắt kết nối liên tục',\n 'bạn kiểm tra đường truyền có tên nguyễn phước trương thanh',\n 'sdt phone',\n 'địa chỉ date a đường kha vạn cân phường hiệp bình chánh quận thủ đức',\n 'xem băng thông nó như nào giúp mình được ko chứ mình ko muốn làm khó làm dễ gì nhà mạng đâu',\n 'cáp quang đang bị đứt hả ad',\n 'ko bảo bộ phận nt qua fb này luôn đi',\n 'như ban đầu bên em có thông tin thì tại xã thọ bình bên em chưa có hạ tầng ạ',\n 'anh vui lòng cung cấp thêm thông tin về hợp đồng sđt họ tên chủ thuê bao địa chỉ lắp đặt để em kiểm tra ạ',\n 'modem wifi nhà mình ko có internet',\n 'mình ở diên khánh khánh hoà',\n 'sđt bên trêm đó ad',\n 'shop cho e hỏi',\n 'nhin tn o trên rồi hỏi cũng chưa muộn',\n 'giờ e muốn cắt cáp quang',\n 'ổn định như thế nào thì e không biết',\n 'do đi quốc tế thấp quá cáp apg đứt mạng lag thì thôi luôn',\n 'luc trc bt càng ngay càng tệ h còn ko chơi dc j nua',\n 'thanks ad nhé',\n 'anh xem giúp trên modem có ghi mã hợp đồng không ạ nếu không có anh cung cấp địa chỉ mac ở phía sau modem giúp ạ',\n 'number ngàn hoặc number ngàn mà wifi dùng k được',\n 'sáng number đèn thôi ạ',\n 'chưa có hạ tầng thì không lắp được hả',\n 'e gọi rồi nhân viên bảo date mai đến kiểm tra',\n 'nhà có ngừoi ạ',\n 'phone ạ',\n 'fpttelecom xin chào anh thắng phiền anh cung cấp thông tin họ và tên sđt và địa chỉ lắp đặt để nhân viên kiểm tra phục vụ ạ trân trọng',\n 'nhắn qua đây được rồi ạ',\n 'hiện tại em đang không còn nhu cầu dùng mạng',\n 'mình sẽ gửi số đt khi đã xác định dùng dịch vụ bên bạn để tránh spam',\n 'nên mình hỏi giá cước và các khuyến mãi nếu dùng cả internet và tv',\n 'pc em đặt trong phòng nên nối dây lan bất tiện ấy ạ',\n 'anh có thể gọi để em nói một số chuyện dc không ạ',\n 'để tiện trao đổi anh vui lòng cung cấp cho fpt số điện thoại để bên em liên hệ được không ạ',\n 'anh vui lòng cung cấp thêm thông tin về hợp đồng sđt họ tên chủ thuê bao địa chỉ lắp đặt để em kiểm tra ạ',\n 'bên fpt có gói nào 300k ko ạ',\n 'vâng xin chào',\n 'để tiện trao đổi em xin phép liên hệ anh qua số phone được không ạ',\n 'mình gần hết kiên nhẫn rồi cứ đến tối là bị như vậy trong khi đó mạng bên ngoài rất là bình thường',\n 'mang nha minh thay toc do chan qua',\n 'number number',\n 'e sẽ tắt mở mỏdem ạ',\n 'game chơi rất mưowjt lun',\n 'bên mình có bán router wifi ko',\n 'để bên em kịp thời phục vụ',\n 'anh vui lòng cung cấp thêm thông tin về hợp đồng sđt họ tên chủ thuê bao địa chỉ lắp đặt để em kiểm tra ạ',\n 'làm như bên khoái cảm giác bị chửi hay sao đó',\n 'shop kiểm tra giúp e xem mạng nhà em bị sao ạ',\n 'để tiện trao đổi anh vui lòng cung cấp cho fpt số điện thoại để bên em liên hệ được không ạ',\n 'để tiện trao đổi em xin phép liên hệ anh qua số phone được không ạ',\n 'thôi mình liên hệ xong rồi nhé bạn',\n 'tui nói bên mình khoái cảm giác bị chửi xong gửi thêm number nữa là chet rồi ha xong mình nt lại với tôi rằng vang a',\n 'cho em hỏi chút ạ em có thấy trên trang member fpt báo hợp đồng gói giải trí truyền hình của em hết hạn vậy em có bắt buộc phải gia hạn không ạ',\n 'anh nam kiểm tra xem ổn định chưa ạ nếu vẫn not ok bên em qua kiểm tra lại ạ',\n 'sử dụng gói khác để ít tiền hơn đóng number mấy number tháng mà wifi coi youtube đứng lên đứng xuống',\n 'hi cho a hỏi chương trình tăng gói cướp áp dựng chưa em thấy phần mềm hi fpt ghi number m rùi',\n 'vẫn chưa ổn định mai em báo kỹ thuật qua kiểm tra lại nhé',\n 'có nhân viên sửa rồi nhé ad',\n 'chỉ có number m thui nha',\n 'a thấy lên tới number m luôn',\n 'coi giúp em sao mạng hơi yếu ạ',\n 'em ở trọ được vài tháng ở đây nên em không biết hợp động ạ',\n 'nên chắc number phần cũng gây ra hiện tượng giật lag thì ad có cách nào chuyển băng thông vào cái pc của em mà ko cần dây lan k ạ',\n 'số này fpt ạ',\n 'em xin phép liên hệ sđt phone của anh ạ',\n 'để tiện trao đổi em xin phép liên hệ anh qua số phone được không ạ',\n 'sdt em phone',\n 'cac ban den hay khong',\n 'mình có nhận dc tin nhắn nâng cấp từ gói cước tốc độ 50mb lên super number',\n 'sao mình lên lầu ko sử dụng wifi đc bạn',\n 'để tiện trao đổi em xin phép liên hệ anh qua số phone được không ạ',\n 'từ tháng number gói cước fpt bao nhiêu tiền nếu như giá cũ là tôi chuyển sang gói viettel',\n 'để tiện trao đổi em xin phép liên hệ anh qua số phone được không ạ',\n 'khu vĩnh phú mạo khê đông triều quảng ninh',\n 'có gọi cho nhân viên lắp đặt sữa chữa',\n 'da nữa hả met lam rồi nha bo không co câu nào nói xong tui bị xe tông ha gì',\n 'load utube hay nghe nhạc đều không được',\n 'mạng lỗi liên tục vào buổi tối ko dùng để chơi game hay gì hết chỉ coi videos thôi',\n 'e cảm ơn nhiều ạ',\n 'cũng chả khác gì',\n 'cắm đây lan luôn rùi',\n 'fpttelecom chào anh ạ anh vui lòng cung cấp thêm tên điện thoại liên hệ địa chỉ lắp đặt nhân viên kiểm tra ạ',\n 'chowi game online nước ngoài thì báo là mạng k ổn định nên k cho vago gảm luôn',\n 'hiện tại em đang đỗi địa điểm ở và sửa chữa ạ',\n 'tóm laj có hướng dẫn k vậy ak',\n 'cho mình xin gía gói super35 và number',\n 'mình đang muốn dùng internet tv của fpt',\n 'hình như là chưa',\n 'tân phong biên hoà đồng nai',\n 'anh vui lòng cung cấp thêm thông tin về hợp đồng sđt họ tên chủ thuê bao địa chỉ lắp đặt để em kiểm tra ạ',\n 'k biết giá cước có thay đổi k bạn',\n 'để tiện trao đổi em xin phép liên hệ anh qua số phone được không ạ',\n 'thi cung bao number cau chu',\n 'lê anh tuấn',\n 'date c lê văn lương ấp number xã nhơn đức nhà bè hồ chí minh',\n 'lag vầy sao em chơi nổi',\n 'hợp đồng theo số điện thoại phone',\n 'mình ở tỉnh hải dương',\n 'fpt telecom xin chào anh ạ',\n 'chú vui lòng cung cấp thêm thông tin về hợp đồng sđt họ tên chủ thuê bao địa chỉ lắp đặt để cháu kiểm tra ạ',\n 'để tiện trao đổi em xin phép liên hệ anh qua số phone được không ạ',\n 'về vấn đề game online thì em không rành anh có thể cài đặt và trải nghiệm xem thế nào ạ emoticon',\n 'nó chỉ dươi 15ms thôi',\n 'em reset máy cái nó lên tới 2000ms rồi emoticon',\n 'phiền anh thạch khởi động lại modem giúp em xem thế nào ạ',\n 'cảm ơn b đã hỗ trợ',\n 'fpt telecom xin chào anh ạ',\n 'fpt telecom xin chào anh ạ em có thể phục vụ anh thông tin gì không ạ',\n 'tại sao buổi tối lại bóp băng thông vậy chơi game thì lost conect riết trong khi mấy nhà mạng khác không bị t đóng tiền đầy đủ chứ có bỏ đâu mà làm vậy',\n 'nguyễn thị minh ánh',\n 'bạn báo giúp mình hết ngày date thì cắt nhé',\n 'chết rồi sao không trả lời vay',\n 'không bị sao co một câu nói hoài vậy bộ không biết chán sao',\n 'mình vừa đóng tiền trả trước number tháng mấy hôm trc cuối tuần này mình muốn chấm dứt hợp đồng thì có đc hoàn tiền ko và thủ tục sao nhỉ',\n 'bên em update lại tín hiệu anh kiểm tra lại ạ',\n 'sử dụng gói khác để ít tiền hơn đóng number mấy number tháng mà wifi coi youtube đứng lên đứng xuống',\n 'load exam date com nhaccuatui youtube com ảnh fb load date s',\n 'h lên đc number number mbs',\n 'rrooi em bật tắt modern',\n 'hiện giờ modem không ở phòng của em có mã khách hàng được không ạ',\n 'gói cáp quang 370k tháng là 55mbps đúng không ạ',\n 'rất xin lỗi anh có phải vì nguyên nhân chất lượng đường truyền mà anh hủy hợp đồng không ạ',\n 'rất xin lỗi anh không biết có phải vì nguyên nhân dịch vụ mà anh hủy hợp đồng không ạ',\n 'trong ngady nào kt lên gọi e',\n 'lên web lẫn chơi game',\n 'nên vui lòng vui lòng hướng dẫn em ngưng sử dùng mạng',\n '360k tháng chắc không dừng ở 20mbps phải không ạ',\n 'sao nhà em mất mạng rồi',\n 'tất nhiên là với 20mbps thì truy cập web vẫn được nhưng mình cần tốc độ thực và độ ổn định để sử dụng',\n 'em dùng mạng fpt đã đủ number năm chưa ạ',\n 'cho mình hỏi nhà mình đang dùng gói 165k number tháng model number râu mạng khá là chán cách có number bức tường sóng đã yếu vầ chập chờn có thể thay model nào ổn định và khỏe hơn được ko ạ',\n 'nhân viên kiểm tra tín hiệu đang nhận được ạ phiền anh huy tắt mở thiết bị kết nối lại giúp ạ',\n 'em đang muốn hủy hợp đồng ạ',\n 'fpttelecom xin chào chị hương ạ chị vui lòng cung cấp thông tin họ và tên sđt và địa chỉ để nhân viên kiểm tra phục vụ ạ trân trọng',\n 'fpt telecom xin chào anh hưng ạ',\n 'mình ở đoàn thị điểm hoàn kiếm hà nội',\n 'sdt phone',\n 'cmt phone',\n 'là khu tập thể mình ở tag number',\n 'hi nhờ a chị tư vấn cho e xíu',\n 'em cảm ơn anh học ạ emoticon',\n 'tạm thời giờ mình không nghe máy dc do đang rất ồn',\n 'có gì mai liên hệ qua số phone',\n 'chúc chị buổi tối vui vẻ hi',\n 'anh vui lòng cung cấp thêm thông tin về hợp đồng sđt họ tên chủ thuê bao địa chỉ lắp đặt để em kiểm tra ạ',\n 'nhà em lắp mạng fpt mỗi tháng đón number là gói gì vậy ạ',\n 'giải quyết cho em với',\n 'gửi tin nhanw k nổi luôn nè',\n 'em kiểm tra hình ảnh anh gửi sóng wifi yếu thì sẽ không đảm bảo về mặt kết nối',\n 'em kết nối wifi',\n 'nhân sự fpt sẽ liên hệ phục vụ anh ạ',\n 'làm ơn cho mình xin thông tin của hợp đồng hd22390 và gói cước giá tiền gói cước sau date',\n 'pham hoang viet',\n 'xin lỗi cho mình hỏi sao wifi nhà mình không vào đc mạng zalo cũng ko vào đc chỉ xem đc youtube',\n 'fpt telecom xin chào anh ạ em có thể phục vụ anh thông tin gì không ạ',\n 'em tưởng cái đó là tối ưu chứ ạ',\n 'khởi động nhiều lần rồi cũng ko đc',\n 'sao mấy bộ phim trên phim truyện bị gỡ vậy ad',\n 'ko đc ạ thử trên nhiều máy khác nhau đều ko đc',\n 'số hợp đồng có được không bạn',\n 'vậy đi cho nhanh',\n 'diên khánh khánh hoà',\n 'tên wifi fpt địa chỉ xóm chùa yên nhân tiền phong mê linh ạ',\n 'sđt phone',\n 'wifi có cầm lỗ cáp quang ko ạ',\n 'chào b cho mình hỏi thủ tục hủy hợp đồng gồm những gì vậy',\n 'đăng ký hợp đồng cũng lâu rồi nếu h mình đổi thì có vướn gì ko anh ơi',\n 'nhà e đang sài cáp quang giờ muốn cắt để gắn wifi không được kh ad',\n 'ktra lại giúp em đc không ak',\n 'bên em vừa cập nhật lại tín hiệu anh kiểm tra lại nhé',\n 'anh vui lòng cung cấp thông tin hợp đồng ad kiểm tra nhé',\n 'mạng ok rồi thank ad',\n 'nguyễn thị toan sdt phone',\n 'em chơi lol',\n 'ad reset tín hiệu chưa ạ',\n 'em đã reset xong rồi đó ạ',\n 'mình ko nhớ lắm',\n 'ủa ad cho em hỏi cái này đc k ạ',\n 'e muốn cài lại để truy cập mạng',\n 'e có gọi cho phone mai có nhân viên xuống mà mai e bận đi làm đến tối mới về',\n 'nếu để máy tính bàn kết nối wifi thì anh có thể lắp thêm card wifi hoặc usb wifi ạ tuy nhiên kết nối wifi sẽ không ổn định bằng cắm dây lan trực tiếp ạ',\n 'cho mình có ý kiến là sao các kênh của htvc như htvc thuần việt gia đình thế thao trên fpt truyền hình box 4k xem rất mờ mong fpt sớm cải thiện về chất lượng các kênh đó còn number kênh htv7 và htv9 âm lượng hơn bị nhỏ mọng fpt sớm khắc phục',\n 'em nghe nói được tăng gấp đôi băng thông',\n 'để tiện trao đổi em xin phép liên hệ anh qua số phone được không ạ',\n 'giải thích quá chán đời t dùng number line mạng fpt đưang ký qua number số khác nhau bảo có thắc mắc gì thì nên đây giải đáp xong rồi lại chuyển qua tổng đài emoticon quá chán ấy',\n 'để tiện trao đổi anh vui lòng cung cấp cho fpt số điện thoại để bên em liên hệ',\n 'thực tế thì mức giá và băng thông sau khi quy hoạch tùy thuộc vào từng khu vực tùy thuộc vào lưu lượng sử dụng của từng khách hàng cũng như khuyến mãi trước đó mà khách hàng và fpt đã kí kết ạ cho nên sẽ có phát sinh sự khác nhau về băng thông về giá cước của từng hợp đồng ạ',\n 'lê tiến mạnh số number đường minh tân tt minh tân kinh môn hải dương',\n 'không rõ anh mạnh ở tỉnh nào vậy ạ',\n 'chủ thuế bao nguyễn thị lâm ngọc khu number đại phúc chứ gói cước viettel có number nghìn',\n 'minh la chu hop dong',\n 'kiểm tra giúp cảm ơn a',\n 'bạn có thể trả lời giúp mình number câu hỏi là number ngày nay cứ đến tối là mạng nhà mình nó giở chứng vì lý do gì ko',\n 'ad ơi tối nay khoảng date date j đó ad tối ưu cái lol giúp em nha',\n 'tại em thấy lúc ad tối ưu á',\n 'nếu youtube anh vẫn sử dụng được thì không phải do đường truyền ạ anh thử thoát hẳn ứng dụng vào lại xem có được không ạ',\n 'tình trạng bị từ rất lâu rồi',\n 'nói là mai lại nhà kiểm tra',\n 'để tiện trao đổi em xin phép liên hệ anh qua số number number được không ạ',\n 'có gì anh cứ báo lại ạ',\n 'mạng bị gì ma như qq vậy trả tiền rồi ma như vậy sao dung nói là để em cho nv xuống ho tro cho anh nha',\n 'nhưng ko thấy',\n 'phải xử lý ntn ạ',\n 'không phải sợ đó phone',\n 'sđt phone',\n 'hi fpt ko biết mạng có gặp vấn đề gì ko mà sao hôm nay mạng nhà mình load chậm quá',\n 'bạn hướng dẫn mình nhé',\n 'bây giờ e muốn lắp number hợp đồng mới gói thuê bao 310k number tháng thì tốc độ là bao nhiêu ạ',\n 'cả number hợp đồng nhé',\n 'e vừa gọi kt hôm qua',\n '500k number tháng mà mạng như này thật sự không biết nói gì',\n 'oki em cảm ơn a',\n 'còn number laptop',\n 'tối ưu đi ạ',\n 'chào anh bên em vừa cập nhật lại tín hiệu anh kiểm tra lại ạ',\n 'để mai em xem còn lag k để em báo cáo cho ad nhé 😅',\n 'ổn vãi đái ra emoticon',\n 'e tắt hết rồi mở lại wifi vẫn bắt dc nhưng k vô dc number ứng dụng nào cả',\n 'khanhdd26 gmail com',\n 'cho mình hỏi chút về nâng cấp gói super65 là nâng lên 65mb s à bạn',\n 'anh muốn máy tính bàn kết nối mạng nhưng không dùng day lan đúng không ạ',\n 'vậy là hết cách r á emoticon',\n 'phone mai trung hiếu date trương phước phan f bình trị đông q bình tân',\n 'fpt telecom xin chào anh ạ em có thể phục vụ anh thông tin gì không ạ',\n 'có wifi nhưng vào youtube ko đc',\n 'để tiện trao đổi chú vui lòng cung cấp cho fpt số điện thoại để bên cháu liên hệ được không ạ',\n 'number number',\n 'dùng wifi nhà hàng xóm vào bt mà',\n 'cho hỏi là tại sao ứng dụng phim truyện có nhiều phim đang coi dở lại bị xoá vậy như là phim hoạt hình đảo hải tặc hoặc phim truyện trung quốc vì yêu em anh nguyện yêu cả thế giới',\n 'fbt gì chán vậy',\n 'để mình gọi nhân viên gần nhà cũng đc',\n 'hiu chưa co gì hỏi thêm nữa không',\n 'admin bị khung ha gì',\n 'number tháng nữa nếu ko đổi thì e buộc phải đổi thôi chứ cứ tưởng là đth hư ai dè mayd tính rồi tivi đều như thế',\n 'ad ơi sao mạng tối nay yếu quá vậy ạ xem youtube cứ bị đứng',\n 'chào chị tú mình truy cập website nào bị chậm ạ quốc tế hay trong nước ạ',\n 'bên em vừa update lại tín hiệu đường truyền nhờ chị tú truy cập lại xem đã ổn định chưa ạ',\n 'chị tú theo dõi tối nay nếu chưa ổn định báo lại em phục vụ nhé',\n 'a tắt hết thiết bị rùi',\n 'bạn ơi mình hỏi vs',\n 'phản hồi nhanh hộ mình với ạ',\n 'và em noid lần này lần cuối cùng đề nghị mai admin kêu kt lên xem lại mạng nhà em number là sửa cho xong còn number lên lấy cục wifi về hộ tháng nào cũng mất number number ngàn chứ k phải',\n 'ai mà chơi dược',\n 'rất xin lỗi anh sơn nhân viên đã tạm gia hạn tín hiệu và báo nhân viên thu cước rồi ạ phiền anh kết nối lại sử dụng và chờ nhân viên thu cước giúp',\n 'fpttelecom xin chào anh trung ạ phiền anh cung cấp thông tin họ và tên sđt và địa chỉ lắp đặt để nhân viên kiểm tra ạ trân trọng',\n 'cho hỏi fpttelecom đã tìm ra vấn đề chưa ạ',\n 'fpt telecom xin chào chị hương ạ em có thể liên hệ với chị qua số điện thoại nào ạ',\n 'em có thể liên hệ với anh qua số phone không ạ',\n 'chào anh tuấn ạ rất xin lỗi anh về sự bất tiện trong quá trình sử dụng dịch vụ',\n 'đến nổi checkib của admin mà tận 10s sau nó mới qua thì e chịu thua',\n 'rất xin lỗi anh hoàng vì sự phiền toái trên nhân viên vừa reset lại tín hiệu đường truyền phiền anh tắt mở modem kết nối kiểm tra lại giúp',\n 'có lỗi đâu mà kiểm tra ạ em chỉ hỏi cách nào cài đặt như thế thôi ạ',\n 'da không biết vì nguyên nhân gì chị thương muốn hủy dịch vụ ạ',\n 'nếu sợ sài nhiều anh có thể đổi mật khẩu wifi ạ',\n 'cho em hỏi fpt chuyển đổi gói super number sang gói super number nhưng wifi không vào được dù em dã thanh toán tiền cho đến hết tháng number',\n 'em sẽ chuyển thông tin để nhân viên liên hệ phục vụ ngay ạ',\n 'fpttelecom rất xin lỗi anh khánh vì sự bất tiện trên phiền anh cung cấp thông tin họ và tên sđt và địa chỉ để nhân viên kiểm tra phục vụ ạ trân trọng',\n 'mình đang muốn lắp mang fpt',\n 'oh chat ko đc ah emoticon',\n 'nhờ được tư vấn ạ',\n 'rồi đó đc k ạ',\n 'nahf em có nhiều thiết bị điện tử sài wifi í',\n 'tựa như vậy ấy ạ tại nhiều máy sài chung wifi nên có cách nào ko ad bày cho em với',\n 'không phải sđt của e ai',\n 'ad cho hỏi thiết bị đầu cuối là như thế nào v ạ',\n 'fpt telecom xin chào anh ạ',\n 'nhân sự fpt sẽ liên hệ phục vụ anh ạ',\n 'dm ngoi cho gan number tieng k thay ai goi dien gi ca',\n 'để tiện trao đổi em xin phép liên hệ anh qua số phone được không ạ',\n 'anh đang kết nối qua wifi phải không ạ',\n 'ad ơi cái gpedit msc qos có cái băng thông ấy ạ em chỉnh số number nó có hết lag k',\n 'anh vui lòng cung cấp thêm thông tin về hợp đồng sđt họ tên chủ thuê bao địa chỉ lắp đặt để em kiểm tra ạ',\n 'a gọi giùm em số này',\n 'reset là tối ưu hả ad 😅',\n 'vậy nói cho chuyên nghiệp thì ad tối ứu kênh chuyển quốc tế cho em nha khoảng date em chat với ad ad nhớ rep ạ emoticon',\n 'mạng đợt này có vấn đề ah bạn ơi',\n 'có lẽ lỗi modem',\n 'sáng mai nhờ ng tới xem mạng nja2 e đc ko ạ',\n 'chả thấy gì cả',\n 'bạn kiểm tra giúp mình với ạ',\n 'chào bạn mình muốn cắt mạng internet',\n 'vậy mình đã chết và khoái cảm giác bị chửi',\n 'shop kiểm tra giúp em với',\n 'mình muốn login vào number number number number thì mật khẩu và id là gì vậy',\n 'em đăng kí gói super65 fpt cả number nơi mà mạng download đc number 600kb s',\n 'mạng mỗi tối đều mất ổn định nhé',\n 'chào anh nam anh vui lòng cung cấp thông tin hợp đổng fpt kiểm tra ạ',\n 'hiên tại mạng nhà em chập chờn và yếu quá',\n 'e với thằng bạn e down number file',\n 'nó xài vnpt 240k number tháng 8mb s',\n 'anh trí theo dõi trong tối nay giúp em nhé',\n 'nhưng kết quả em đo được chỉ tầm có 20mbps',\n 'cho mình hỏi',\n 'anh truy cập trang nào bị ạ anh dùng điện thoại hay máy tính ạ',\n 'về tối là k dùng được',\n 'k biet em kêu kt lên xem bao nhiêu lần r mà sửa sáng e k biet sưar gì',\n 'làm ăn như cc',\n 'tối về mạng toàn giật ping lên number',\n 'mà e vô number number number number điền mk đúng nhưng k vô dc là sao ạ',\n 'em đang xài mạng của mình hàng xóm xài chùa nhiều em muốn giới hạn băng thông của những máy xài chùa như thế nào ạ cám ơn',\n 'mất mạng suốt thì cắt bỏ luôn đi nhé',\n 'hiện tại cho em hỏi',\n 'rất xin lỗi anh có muốn hủy vì chương trình nâng băng thông gia tăng trải nghiệm đúng không ạ hiện đang trong thời gian trải nghiệm ạ fpttelecom rất mong anh trải nghiệm tốc độ mới nếu thực sự anh không đồng ý cho thể hạ gói ạ',\n 'k cho vào game luôn',\n 'máy tính có thể bị disable card mạng mình có thể tìm hiểu thêm giúp em nhé',\n 'do e k rành về máy tính ã',\n 'băng thông quốc tế fpt chạy quá chậm',\n 'mình đang sử dụng gói f3 sắp đc nâng lên super65',\n 'mình đang xài internet fpt sử dụng modern number băng tầng mình muốn đổi sang modern number băng tầng number 4ghz và number ghz thì như thế nào xin cám ơn',\n 'em sẽ ghi nhận phản ánh của anh hiếu để chuyển tới bộ phận liên quan để kiểm tra và khắc phục tình trạng này',\n 'khi cần phục vụ anh hiếu vui lòng liên hệ tổng đài number phone number gửi yêu cầu hỗ trợ qua ứng dụng hifpt hoặc inbox tại đây fpt telecom sẽ liên hệ phục vụ ngay cảm ơn anh ạ',\n 'để kiểm tra anh vui lòng cung cấp thông tin hợp đồng như tên chủ thuê bao địa chỉ lắp đặt hoặc số điện thoại trong hợp đồng ạ',\n 'để tí e nhờ ng nhà kt',\n 'thế nhé bạn báo hết tháng này cắt mạng cho mình qua tháng mà còn chưa cắt là mình k trả phí tháng number đâu nhé',\n 'em kiểm tra thấy cước trả trước iptv của mình đến date ạ',\n 'tên chủ thuê bao bùi thị hải yến',\n 'địa chỉ date c tây lân bà điểm hóc môn tp hcm',\n 'số điện thoại phone',\n 'em có thể liên hệ với chị qua số phone không ạ',\n 'fpt telecom xin chào chị ạ',\n 'fpt telecom đã liên hệ phục vụ chị hương yên tâm ạ chúc chị hương ngày mới tràn đầy năng lượng',\n 'để e tra google',\n 'vui lòng cho em xin sđt để em có thể liên hệ lại phục vụ anh ạ',\n 'xin chào anh mình test ạ',\n 'sgd number ạ',\n 'băng thông trong nước thì ổn',\n 'rất xin lỗi chị về vấn đề đang gặp phải',\n 'sẽ có nhân viên liên hệ phục vụ anh ạ',\n 'với phim one piece trên phần phim hoạt hình sao tự nhiên mất ngày hôm qua vậy ạ em tìm không thấy',\n 'fpt telecom xin chào anh ạ',\n 'fpt vui lòng giải thích khoảng tiền thuê thiết bị đầu cuối dùm mình',\n 'bị vậy là sao ạ',\n 'thôi miễn đi gọi cho các người rồi hỏi rồi tôi chỉ cần number mốc thời gian là bao h mới ko bóp băng thông quốc tế vè number vào buổi tối thế thôi còn ko cần phải alo hết',\n 'vấn đề ở đây k phải là hạ gói hay k mà là do dịch vụ vủa bên bạn chả ra sao riêng về giá tiền mà trong cùng number phường cùng number gói mà chênh nhau hẳn 40k hỏi thì k trả lời đc lý do nâng băng thông thì tự ý tăng giá mà còn k phải lần đầu',\n 'card mạng lan là sao ạ',\n 'hiện em không nghe điện được ạ',\n 'fpt telecom xin chào anh ạ',\n 'trước hết mình kiểm tra dây mạng lan trước anh nhé enable mạng thôi ạ',\n 'fpt telecom đã liên hệ phục vụ anh can yên tâm ạ',\n 'em liên hệ gặp chị yến không thấy chị phản ánh gì ạ',\n 'thông cảm ko mài ra mà đền hợp đồng với khách của tôi đc tháng number này tôi chuyển mạng khác cho nhanh',\n 'mà lỗi card mạng khó khắc phục quá ạ gì nà driver tùm lum hết',\n 'wf bên em yếu quá hqa a kia vô xem bảo đổi cục wf cucng k thấy ạ',\n 'để kiểm tra anh vui lòng cung cấp thông tin hợp đồng như tên chủ thuê bao địa chỉ lắp đặt hoặc số điện thoại trong hợp đồng ạ',\n 'tại sao khi làm hợp đồng nói xài number năm khi cắt mới tính phí mà bây giờ lại tính phí xài trên number năm free hết v tại sao bâu giờ tính tiền',\n 'fpt telecom xin phép liên hệ phục vụ anh ạ',\n 'nguyễn thanh danh number đường number p bình thọ q thủ đức tphcm dt phone mình đã và đang sử dụng internet fpt number năm rồi mà vẫn chỉ dc sử dụng con modern number băng tầng ☹️☹️',\n 'vui lòng cho em xin số điện thoại để nhân viên phục vụ ạ',\n 'e cũng k thể enable đc luôn',\n 'e cho số rồi đó ạ',\n 'bạn cho mình cái link hướng dẫn thủ tục đc ko bạn',\n 'tao ra hoàng văn thụ tao phá',\n 'và cũng chỉ ra cửa hàng',\n 'về chức năng này khách hàng chủ động can thiệp quản lí fpt không tác động từ xa đâu anh mình nên kiểm tra giúp em xem có ai dùng chung hay có ai can thiệp không ạ',\n 'hợp đồng mình còn cam kết trong number tháng từ thời điểm lắp ý anh hy vọng mình xem xét dùng tiếp hoặc chuyển sở hữu ạ',\n 'tháng này mình vẫn chưa có tiền đóng cước nên xin number number tuần sau trả cước',\n 'lằng nhằng quá',\n 'đĩ mẹ tụi mày tao đi thanh lý hợp đồng',\n 'tìm trong fpt vn ko thấy',\n 'vui lòng cho em xin thông tin liên hệ như số điện thoại và số hợp đồng em có thể phục vụ ạ',\n 'lỗi này đúng là có thể do driver mạng máy tính anh nhé',\n 'bất quá tam nha kon',\n 'pass modem mà nó đổi đc à pass dài number mấy kí tự lắm số mà nó đoán đc à',\n 'đúng rồi bạn',\n 'mình tạm ngưng sử dung mà bên cửa hàng vẫn ko đồng ý và vẫn tiếp tục để mình sử dụng khi hiện tại mình ko còn khả năng để thanh toán',\n 'anh chị có thể tư vấn giúp tôi một vấn đề k ạ',\n 'hỏng thì phải cài lại windown bên fpt chưa phục vụ được vấn đề này ạ',\n 'bên e ko xử lý trường hợp của a hay như thế nào',\n 'không bắt buộc ạ mình có thể trả trước hoặc trả từng tháng cộng vào tiền net hàng tháng ạ',\n 'với lại về mạng này thì e cũng k rành mấy',\n 'hiện tại trang chủ của fpt telecom anh truy cập giúp em tại fpt vn ạ',\n 'em có thể kiểm tra phục vụ anh hoặc bên em có hotline number phone number ứng dụng hi fpt có thể phục vụ anh thông tin này chưa chính xác anh nhé',\n 'mà trên fpt vn ko có hướng dẫn',\n 'ad ơi kỹ thuật nói với ba e là date tới kt nhưng giờ mạng wifi e đã dùng đc rồi nhưng mạng máy tính vẫn chưa ad nghĩ có nên cho kỹ thuật đến kt k ạ chứ mạng lúc có lúc k chập chờn vậy rất khó chịu',\n 'em thấy có tín hiệu bình thường rồi ạ anh kiểm tra lại dây lan giúp em',\n 'h chỉ tao xem lịch sử máy sử dụng',\n 'mong sớm nhận đc hồi âm từ công ty',\n 'sđt phone',\n 'mất đèn internet rồi ạ',\n 'ad kiểm tra giúp e sao mạng e ko lên dc rồi ạ',\n 'đang mất tín hiệu quang rồi ạ',\n 'ad gọi số e cho nhé',\n 'mình liên hệ bên tổng đài rồi',\n 'mà ad ơi hình chữ x đỏ vậy là lỗi driver hả ad',\n 'số đăng kí phone',\n 'lỗi này đúng là có thể do driver mạng máy tính anh nhé vậy làm sao để khắc phục ạ nv kỹ thuật bên mình có hỗ trợ vấn đề này k ạ',\n 'mình đã nói rõ với bạn tổng đài viên và bạn nguyeetbt6 chi nhánh điện biên phủ',\n 'trọn gói number triệu',\n 'mắc mệt vụ gói cước quá',\n 'em có thể liên hệ với anh qua số điện thoại nào ạ',\n 'fpt telecom xin chào anh ạ',\n 'nếu qua là qua giờ luôn hả ad',\n 'vậy trang này ko phải của fpt đúng ko bạn',\n 'số hợp đồng của anh dafd36221 tại địa chỉ number yen khe number phải không ạ',\n 'có tín hiệu rồi nhưng máy tính e vẫn k vào đc ạ',\n 'mình ko có khả năng chi trả và muốn tạm ngưng ít tháng',\n 'mình ko nhớ mã hợp đồng',\n 'nhưng bên đo vẫn ko cho ngưng và cho mình xài free mặc dù mình đã bảo ko còn tiền để trả',\n 'và mình nói rõ thêm number diều lỗi của mình là ko đọc hợp đồng bạn tư vấn bảo dùng tháng nào trả tháng đó ko dùng lên hủy lấy lại cọc',\n 'nay tôi có chuyển nơi ở sang một khu vực cách đó',\n 'vậy tôi muốn chuyển dây mạng sang đó thì đăng ký ở đâu và phí là bao nhiêu ạ',\n 'em xuống cắt dây dùm a để a qua viettel',\n 'ad ơi e đã kiểm tra lại dây mạng thì vẫn bình thường',\n 'vâng kĩ thuật cần qua kiểm tra thì liên hệ với mình qua số nào ạ',\n 'đĩ mẹ tụi mày lần thứ number rồi thằng nào làm',\n 'kêu công an tới canh đi là vừa',\n 'vẫn ko giải quyết đc bạn',\n 'để kiểm tra anh vui lòng cung cấp thông tin hợp đồng như tên chủ thuê bao địa chỉ lắp đặt hoặc số điện thoại trong hợp đồng ạ',\n 'mà nhà này đóng gần 300k',\n 'vậy giờ sao ạ',\n 'mình hiểu rồi',\n 'địa chỉ 497a number ạ',\n 'liên hệ phone',\n 'thông tin bên fpt telecom đó có đúng chính sách ko bạn',\n 'ad seen giùm e ạ',\n 'vì mình muốn làm thủ tục tạm ngưng',\n 'phải cài lại windows luôn hả ad nhưng sao lại bị lỗi vậy ạ tụi e k làm gì hết luôn ạ',\n 'chị mình đang bắt bên vnpt',\n 'giải quyết đc hay không nói number tiếng thôi',\n 'tại sao các nhà mạng khác lại ko tốn phí khi tạm ngưng',\n 'số hợp đồng slfd06525',\n 'em xin gửi lại link web https fpt vn vi',\n 'thông tin trên đó có đúng của fpt ko thôi bạn',\n 'hay là trang fake',\n 'tao xài accpt list',\n 'đụ má tụi mày thằng nào tự động chỉnh blocking list tao number lầm rồi',\n 'các lỗi này mình nên lên google tìm hiểu theo em là vậy có thể tự biết nguyên nhân để khắc phục ạ',\n 'tôi có đăng ký gói mạng wifi fpt',\n 'bao giờ mình có điều kiện lại tiếp tục sử dụng',\n 'fpt telecom xin chào anh ạ',\n 'k tốn phí nào',\n 'lên tạm ngưng number number tháng nói number câu là hoh tự cẳt',\n 'đã ko có khả năng chi trả bắt đóng phí 5tr tạm ngưng',\n 'number nhà đóng có 200k',\n 'mình muốn bạn trả lời dùm mình câu hỏi này mình xin phép ko làm phiền nữa',\n 'bạn vẫn chưa trả lời câu hỏi dùm mình',\n 'phạm văn dương',\n 'địa chỉ bản dửn đại học tây bắc tp sơn la tỉnh sơn la',\n 'em đã tiếp nhận thông tin rồi anh bên em cũng đã có nhân viên gọi lại trao đổi các thông tin mình không đồng ý em xin phép báo bộ phận dịch vụ kh phục vụ anh lại ạ',\n 'bên mình có gói cước chơi game máy tính kh ạ',\n 'vẫn có tín hiệu là các bạn cho mình xài free nhé',\n 'mà bạn vẫn chưa trả lời ý chính của câu hỏi',\n 'trong nước thì không có vấn đề nhưng buổi tối download rất chậm mặc dù tải bằng link googledirve xem lại giúp em',\n 'chán với cách làm việc của fpt',\n 'em sẽ chuyển thông tin ngay nhân viên sẽ liên hệ anh bảo sau ít phút ạ',\n 'chào anh sơn ạ',\n 'điện vào số của em',\n 'ad cho hỏi mình muốn thay đổi hợp đồng thì ở quận number đến đâu để làm',\n 'vui lòng cho em xin địa chỉ rõ hơn một chút ạ',\n 'trước đây chị đã từng lắp đặt internet của fpt telecom chưa ạ',\n 'sao chưa thấy ai gọi mình',\n 'anh long vui lòng mang theo cmnd ra quầy để làm thủ tục ạ',\n 'hiện tại e đc thông báo là hợp đồng của e date nâng lên gói 50mb giá tăng lên 250k nhưng nhu cầu e k sd hết',\n 'hiện tại anh tham khảo thông tin về các gói cước tại đây',\n 'bạn có thể cho tớ hỏi number chút được ko',\n 'vậy anh vui lòng đợi kỹ thuật qua kiểm tra nhé',\n 'chương trình có dự kiến mở rộng ra bên ngoài để người dân có thể mang pin đến các điểm thu gom của fpt ko hả bạn',\n 'cho e hỏi mạng internet của nhà number date an dương vương p4 q5 tổng tiền bnhiu ạ',\n 'fpt telecom xin chào ạ',\n 'có gì mình sẽ liên hệ lại sau emoticon',\n 'nãy có bạn liên hệ rồi',\n 'chu fpt minh xai k bao jo den noi vây',\n 'còn bên bạn trả lời thế nào xin cho mình câu trả lời',\n 'cho em hỏi cái này',\n 'fpt telecom xin chào anh hoàng ạ fpt telecom có thể phục vụ được gì tới anh ạ',\n 'bên cước phi thì dùng tháng nào mình trả tháng đó',\n 'rước giờ mình chờ bên fpt hay bên cước phí',\n 'tại cô yến là mẹ em mẹ em chỉ có xem tv mỗi tối thoi ạ',\n 'em có thể liên hệ với anh qua phone không ạ',\n 'cục modem đời mới number băng thông cập nhật lại fimwe chưa có lại cái mục alowing list chưa',\n 'số hợp đồng là sgh260745',\n 'chờ em xíu ạ',\n 'h em phải đóng bao nhiu nữa ạ',\n 'quên xin lỗi nói với bạn nãy giờ chưa xin tên',\n 'ok đc rồi nhé cám ơn anh chị',\n 'fpt telecom xin chào anh',\n 'à cái đó là fpt shop',\n 'nếu chuyển đổi được thì mình muốn chuyển ngay bây giờ',\n 'number number number mơ',\n 'hnh574258 còn tồn es cl',\n 'mình hiểu nhưng không có nhu cầu nhà dùng ít',\n 'bạn ơi bên bạn là ổ wifi number râu là giá như nào vậy bạn',\n 'cục modem này lâu quá rồi wi fi bị chập chờn hoài à',\n 'liên hệ mình qua số này nhé',\n 'nên e muốn giảm xuống thì vẫn phải ra quầy ạ',\n 'hnh235289 ah',\n 'fpt telecom xin chào ạ',\n 'chơi game thì mạg quá yếu chơi không được ạ',\n 'mình đang tham khảo number số gói cước internet cáp quang gia đình tại hải phòng ạ',\n 'giờ mình muốn quay về supper50',\n 'fpt telecom xin chào ạ',\n 'mà bảo là chờ xem rồi gọi lại',\n 'mình hỏi bạn chứ đâu hỏi nhân viên phục vụ sau',\n 'còn ko có khả năng thánh toán nhưng vẫn cho khách xài bên cước phí sao giải quyết',\n 'fpt sẽ trao đổi với anh lại vấn đề này để chốt hủy hợp đồng theo đúng quy định của fpt ban hành ạ',\n 'fpt telecom xin chào chị trang ạ fpt telecom có thể phục vụ được gì tới chị ạ',\n 'không có khả năng thanh toán là ko cho xài',\n 'em thấy vấn đề này đã có tiếp nhận giải quyết cho anh mình cũng không nên nhắc lại nhiều anh',\n 'là gói nào ạ',\n 'e ko thấy nút quên mật khẩu',\n 'chị mai vui lòng load lại trang hoặc truy cập lại member fpt vn ạ',\n 'cám ơn vân với gọi ai có quyền giải quyết với a thì liên hệ dùm nha mấy bạn ở showroom a ko làm việc nữa đâu',\n 'cảm ơn bạn đã có người liên hệ với mình rồi ạ',\n 'hôm nay fpt liên hệ bằng số phone có vấn đề gì vậy',\n 'ad ơi đường truyền hnay có vấn đề gì ko vậy',\n 'em muốn đổi loại modem mới có dc ko',\n 'hiện tại mình không thấy chỗ nào để chuyển đổi',\n 'tin nhắn báo là tăng 30k',\n 'đợi sang tháng number thì fpt lại tính tiền gói supper number cho mình thì sao',\n 'ok cảm ơn đã hỗ trợ',\n 'fpt telecom xin chào anh ạ',\n 'ko nhà ngoại mình bạn ơi',\n 'hoàng quốc tiến là đúng đó',\n 'em thấy có hđ nguyen thi thu cuc địa chỉ lắp tại number date binh quoi ạ',\n 'em có thể liên hệ với anh qua số nào ạ',\n 'fpt telecom có thể phục vụ gì anh ạ',\n 'địa chỉ là number date lâm văn bền quận number ạ',\n 'mình hỏi về thiết bị đầu cuối và tốc độ mạng ấy',\n 'link này mình đọc rồi',\n 'xem youtube fb cứ đứng quài ạ',\n 'thông tin sẽ được chuyển đến kinh doanh khu vực liên hệ để tư vấn anh cụ thể ạ',\n 'thấy bts ít quá đi fpt',\n 'fpt đang triển khai gấp đôi băng thông không nâng giá cước đúng ko ạ',\n 'thêm nhiều show bts càng tốt',\n 'minh nghi do hạ tầng bên mình co van để ban ah',\n 'fpt telecom xin chào ạ',\n 'fpt telecom xin chào anh tú ạ thông tin anh tú phản ánh bên em đã chuyển bộ phận dịch vụ kh sẽ phục vụ anh sau ạ mong anh thông cảm chờ phản hồi giúp em ạ',\n 'bạn trả lời giúp mình câu này',\n 'mình muốn bạn trả lời giúp mình câu này thôi',\n 'khách ko có khả năng thánh toán cước vẫn để cho khách xài free phải ko bạn',\n 'mình muốn xác nhận thêm nhiều thông tin',\n 'bên điện biên phủ trả lời vẫn tạm ngưng khi không đủ khả năng thanh toán nghĩa là cho xài free',\n 'băng thông quốc tế',\n 'đang có vấn đề à bạn',\n 'mình vẫn chauw thấy câu trả lời chính cho caua hỏi',\n 'bên mình vẫn cho xài mạng free khi khách không có khả năng thanh toán tiền mạng đúng ko bạn',\n 'bạn trả lời giúp mình câu này',\n 'fpt telecom',\n 'em reset lại đường truyền mình thử test thêm các dịch vụ trong nước giúp em băng thông quốc tế dùng chung cho tất cả kh có thể còn liên quan tới server dịch vụ của anh hướng quốc tế bên em sẽ có điều chỉnh',\n 'số điện thoại của em phone',\n 'cho mình xin tên hay sbd của bạn cám ơn bạn và cho ai co khả năng quyết liên hệ với mình nhé',\n 'cho mình xin tên của bạn đc ko à hoặc số báo danh để mình lưu lại ạ',\n 'number date number đường âu cơ p tân sơn nhì quận tân phú ạ',\n 'có vấn đề gì vậy',\n 'xin lỗi chị nguyệt về trải nghiệm chưa được tốt vui lòng cung cấp số điện thoại để nhân viên phục vụ ạ hiên tại hệ thống chưa có lỗi gì ạ',\n 'chi kim có thể nghe máy bình thường nếu có nhân viên liên hệ chị nhé',\n 'vì ở đó gần nhà',\n 'em cám ơn anh đã dành thời gian trao đổi hy vọng anh có những trải nghiệm tốt hơn với băng thông mới nay em cám ơn',\n 'em muốn giảm gói cước thì cần những thủ tục gì ạ',\n 'mình phải phát wi fi điện thoại cho dì mình gửi mail đó',\n 'ảnh mình chụp mờ quá em chưa nhìn rõ ạ',\n 'chị có thể liên hệ thông tin anh nhựtpp nhutpp fpt com vn https link',\n 'mong anh qua hỗ trợ xem lại wifi ạ',\n 'quy hoạch sang gói suppper number',\n 'sau đó bảo chờ ll lại',\n 'mà ko thấy j',\n 'em sẽ báo lại với hệ thống để kiểm tra tối ưu lại kết nối cho anh nhé',\n 'còn bên kia mình ghi hết lại thông tin rồi',\n 'cùng number gói cước',\n 'nguyetejbt6 chi nhánh điện biên phủ cũng đã trả lời mình',\n 'phiền anh kéo lên chỗ câu hỏi của anh ạ',\n 'em đã trả lời anh rồi ạ',\n 'reset vậy có bị sao k ạ',\n 'mình còn dùng thì hệ thống vẫn tính cước anh và mình cần thanh toán ạ',\n 'để kiểm tra anh vui lòng cho em xin thông tin cụ thể game nào server tại đâu và chậm thời điểm nào ạ em cám ơn',\n 'bên cửa hàng của e đang bị mất mạng phiền tổng đài cho ng sang bên cửa hàng fasuni number kim mã kiểm tra đường dây mạng được ko ag',\n 'link đấy là dịch vụ quốc tế rồi anh bên em sẽ kiểm tra lại ạ',\n 'những tháng trước mình vẫn vào bình thường không biết sao tháng này lại báo mật khẩu không khớp',\n 'tại em đang dùng gói 22m',\n 'sao mình đăng kí mới internet mà ko dc cung cấp modem loại mới number băng tần vậy',\n 'sáng giờ rớt liên tục',\n 'fpt telecom xin chào anh ạ',\n 'bên em chưa thấy vp nào ở đỗ xuân hợp ạ',\n 'tư vấn giúp em gói lắp đặt wifi cho khách hàng doanh nghiệp với ạ',\n 'thanks kiu na',\n 'hiện tại fix xong r bạn giờ mình hỏi thêm là đã đóng tiền trước number có đc coi là sử dụng đủ number tháng không',\n 'ad kiểm tra hộ mình lần này gói của mình tăng băng thông có tăng tiền ko để mình còn cắt hợp đồng đi lắp nhà mạng khác cái sđt phone',\n 'phone bản muông chiềng ngần tp sơn la',\n 'à đúng rồi đó',\n 'tớ là nữ bạn cho tớ hỏi có phải fpt telecom đang có chiến dịch đừng vứt pin đúng ko bạn',\n 'fpt telecom xin chào ạ',\n 'mình cảm ơn bạn nhiều nha',\n 'cho mình hỏi gói mình đang sd là gói super50 nhưng sao tốc độ lại chậm ạ',\n 'fpt thêm nhiều show bts lên đi fpt',\n 'anh có thể xem thông tin chi tiết tại đây ạ',\n 'em sẽ chuyển thông tin để các bạn liên hệ lại chị ạ',\n 'nhung tối date h lag lam ban oi',\n 'tôi sẽ thông tin cho người ký hợp đồng với tôi trước đây phải k ạ',\n 'trong khi gói này number number ngày nữa nó nâng tận 100mbps',\n 'vẫn ko tạm ngưng',\n 'làm đéo gì thì làm number lần nữa tao thấy bị đổi blocking list là do tụi mày làm tao thanh lý hợp đồng và đéo phải chịu phí gì hết ko thì coi chừng tao đừng có phá hoại chuyện làm ăn của tao tao đéo có thời gian giỡn mặt tụi bay đâu',\n 'bạn đừng có nói tránh đổ lỗi qua bên khác',\n 'a có nên bỏ 300k để sài của em nữa không',\n 'tốc độ rất thấp',\n 'do hiện tại wifi ổn rồi',\n 'tại mình muốn chơi game máy tính nên sợ wifi yếu chơi kh đc',\n 'xin trả lời câu hỏi của mình date có hay không',\n 'vui lòng cho em xin số điện thoại liên hệ ạ',\n 'rồi cám ơn bạn',\n 'qua tháng sau mình cắm mạng vào lại',\n 'em chưa rõ có thông tin này ạ anh nên kiểm tra lại ạ',\n 'tại em dùng gói cước 22m còn number tháng nữa',\n 'hợp đồng của anh là mai thi thanh thao tại date khanh hoi phải không ạ',\n 'hôm nay bên fpt gọi điện bằng số phone',\n 'phiền anh vui lòng cung cấp sđt họ tên chủ thuê bao địa chỉ lắp đặt để em kiểm tra phục vụ ngay ạ',\n 'bạn cứ nhắn tin qua đây giúp mình nhé mình có bé nhỏ nên nhiều khi ko tiện nghe đt ạ',\n 'hiện tại thời gian này mình sẽ đang trải nghiệm băng thông tốc độ cao hơn này trước ngày date anh nam có thể truy cập theo đường link web bên em gửi để lựa chọn gói băng thông cho phù hợp ạ',\n 'nếu giá cước như cũ thì được',\n 'sao mình dùng gói f5 mà chỉ được lên gói supper number',\n 'chào fpt fpt cho em hỏi sao mạng lag quá v vào tối quá ạ',\n 'em xin phép liên hệ với anh qua số đt trên được không ạ',\n 'địa chỉ number date nhé',\n 'nên liên hệ số này nhé',\n 'thu cúc là đúng rồi đó',\n 'number number number',\n 'mình giải quyết giúp bên ngoại mình luôn',\n 'mình có thắc mắc ad trả lời giúp mình được ko ah',\n 'fpt telecom xin chào chị mi ạ',\n 'em ơi anh minh ne nhà anh hợp đồng vo thi hoa doi qua nhà kế bên em a co hoa kêu em nhan viên lên doi qua nhà kế bên em nói giùm anh cho nhân viên lên nhà anh ky hợp đồng tu vo thi hoa qua hợp đồng dang van em cha anh minh nha em chào em a',\n 'fpt telecom xin chào ạ',\n 'đăng kí mới nhé mình muốn hỏi gói cước để tham khảo',\n 'ok cảm ơn mình không cần hỏi gì nữa',\n 'e cần hỗ trợ về wifi ạ',\n 'mình làm việc trong lĩnh vực môi trường và đang quan tâm tới việc thu gom xử lý pin nên có thể hỏi bạn chi tiết hơn được ko hoặc bạn có thể cho mình liên lạc của người nào bên bạn phụ trách mảng này được ko',\n 'e dóng gói number tháng tặng number tháng a',\n 'trước đó chi nhánh có liên hệ chị nhưng chưa thành công',\n 'và chi phí di chuyển là ra sao',\n 'em có thể liên hệ được không ạ',\n 'mà giá rồi nâng lên như v',\n 'bây h em ko làm rõ hay ko xuống cắt thì em a tự cắt tháng sau a ko đóng tiền',\n 'mính hỏi lần cuối',\n 'bạn lại trả lời tránh nữa',\n 'sever tại singapore và lúc trước thì chỉ bị buổi tối bây giờ ngay cả buổi sáng cũng chẳng vào dc',\n 'cho e hỏi là e coq nhận dc thôq tin từ vietnammobile là ra cửa hàng fpt để đổi lại sim vietnam có 4g đúq hk ạ',\n 'nhân viên có thể liên hệ anh bảo theo sđt nào được ạ',\n 'em test tương tự lỗi có thể từ phìa nhà cung cấp ứng dụng vui lòng thử lại thời điểm khác giúp em',\n 'mình muốn chuyển sang gói supper number',\n 'bên cty em ở q1 tp hcm',\n 'nếu tính giá gói mình chọn đầu tháng number thì ok',\n 'wi fi nhà mình bị hư r ad báo ktv hỗ trợ mình với',\n 'vui lòng cho em xin tên chủ hợp đồng ạ',\n 'anh cung cấp giúp em các thông tin hợp đồng nhé',\n 'bạn check giùm mình sdt này nhé',\n 'thông tin sẽ được chuyển đến kinh doanh khu vực liên hệ để tư vấn anh cụ thể ạ',\n 'fpt telecom xin chào ạ',\n 'mình đang dùng gói f5',\n 'vẫn đề của mình ntn rồi nhỉ',\n 'bên fpt có gói cước internet cáp quang gia đình giá 180k ko ạ',\n 'thông tin sẽ được chuyển đến kinh doanh khu vực liên hệ để tư vấn anh cụ thể ạ',\n 'nếu mình muốn đăng kí thì mình có thể gọi tới số đt nào ạ',\n 'tổng đài date ạ',\n 'bên mình vẫn cho xài mạng free khi khách không có khả năng thanh toán tiền mạng đúng ko bạn',\n 'uhm cho mình gặp người giải quêt vấn đề giúp mình nhé',\n 'bạn trả lời dùm mình câu hỏi đó',\n 'còn vụ kỹ thuật ad kêu nhân viên khỏi tới nhé',\n 'có hoặc không thôi khó vậy sao',\n 'không có khả năng thanh toán cho khách xài free có hay không thôi bạn đừng vòng vo mãi nữa',\n 'fpt telecom xin chào anh phát ạ fpt telecom có thể phục vụ được gì tới anh ạ',\n 'fpt telecom xin chào anh ạ',\n 'xin chào cho tôi hỏi bắt đầu từ date hợp đồng qbd005574 của tôi sẽ áp dụng giá cước mới đúng ko ạ',\n 'hi fpt bạn hỗ trợ giúp mình lấy lại mật khẩu sign in vào trang web để mình lấy hóa đơn điện tử',\n 'em xin phép liên hệ phục vụ qua số phone được không ạ',\n 'fpt cho mình hỏi là hôm nay mạng wifi nhà mình kết nối bằng điện thoại khi vào appstore tải ứng dụng đều báo lỗi ko tải đc ứng dụng nào nhưng mạng vẫn xài bth cho đt máy tính chỉ riêng ko tải ứng dụng về đc là bị như thế nào vậy fpt ạ',\n 'phone nguyen thanh son number h kp number uyên hưng tân uyên bình dương',\n 'vậy từ date đến date mình phải trả tiền gói supper number à',\n 'fpt đỗ xuân hợp ko đc à ad',\n 'nhưng mình không muốn dùng gói supper number',\n 'đầu tháng number anh nhé anh yên tâm trải nghiệm thêm ạ',\n 'mình k tạo dc pre bạn xóa es giúp mình nhé',\n 'có người lại lên gói supper number',\n 'tại sao mạng wifi nhà lại yếu ạ',\n 'rất tiếc anh đang có trải nghiệm dịch vụ chưa được tốt để kiểm tra vui lòng cho em xin các thông tin hợp đồng ạ',\n 'fpt telecom xin chào chị ạ',\n 'em kiểm tra hợp đồng sgfd30573 có tín hiệu bình thường ạ chị đang phản ánh hợp đồng nào vui lòng có thể cho em xin thông tin ạ',\n 'number number number number',\n 'cho mình hỏi gói hiện tại mình dùng number năm cả mạng và truyền hình là number number',\n 'vậy sau này thì tiền mình đóng sẽ là bn ad',\n 'fpt telecom xin chào ạ',\n 'cho mình xin bảng báo giá internet khu vực tứ kỳ hải dương được không',\n 'không rõ anh hòa muốn hỏi thông tin đăng ký mới hay chuyển đổi gói sữ dụng ạ',\n 'vì đang ko hiểu 2cai này',\n 'fpt telecom xin chào anh thái ạ fpt telecom có thể phục vụ anh thông tin nào ạ',\n 'chị cho e hỏi number box này e cắt number box đc k ạ do ở nhà giờ e xài có number box ạ boxx kia k có dùng đến nữa ạ',\n 'fpt telecom xin chào ạ',\n 'ad ơi mình đã ngồi chờ điện thoại hơn number rồi',\n 'hiện có thể liên hệ lại cho mình hay không',\n 'mình còn công việc không thể cứ ngồi chờ điện thoại như vậy được',\n 'hôm nọ mình lỡ hạ gói xuống supper number',\n 'nãy có bạn tổng đài hỏi',\n 'hom qua kt ban vao kiem tra roi',\n 'nhannv iu chị jang',\n 'mình có thể đăng kí tại nhà đc ạ',\n 'mình cảm ơn rất mhieeuf',\n 'ưu đại giảm number có thời hạn đến lúc nào v ạ',\n 'shop ơi cho tôi hỏi',\n 'nếu dowload number thứ gì đó',\n 'ben em cho ky thuat qua nha a cchua',\n 'mạng băng thông thì tuột liên tục',\n 'sóng wifi max',\n 'ban y qua ktra va da lam xong roi',\n 'a reset lai jum em vs',\n 'hiện fpt có thể liên hệ chị qua số điện thoại nào để tiện hỗ trợ ạ',\n 'luc truoc khi chua nâng mạng thì có bị đâu',\n 'fpt telecom xin chào ạ',\n 'phone số kia tôi đang sạc pin ko mang theo',\n 'cho hỏi số dt của t báo huỷ trên hi fpt de lay so khác r mà sao sô t vẫn dăng nhập dc huy de t đăng kí gói khác dùng sô dt cua t',\n 'số dt phone cần huỷ trên ứng dụng hifpt de đăng kí gói cước mới',\n 'và có thể so sánh với băng thông quốc tế của các nhà mạng khác ạ',\n 'tôi thấy mấy nhà mạng khác có tăng đâu',\n 'ok đúng đấy',\n 'fpt telecom xin chào ạ',\n 'nhà mình có dùng đầu fpt nhưng có number số chương trình fim truyện mình hay xem được number thời gian sez tự biến mất k hiện nữa',\n 'fpt telecom xin chào ạ',\n 'giá thì cao',\n 'em ơi bên mình làm việc đến mấy giờ vậy',\n 'mà còn chập chờn thấy sợ luôn',\n 'vừa quay lại xài',\n 'rồi bật lại luôn nhé',\n 'nếu mà k lhac phục dc',\n 'fpt cho mình hỏi về việc tăng giá gói cước là như thế nào vậy mà mình không nhận được thông báo là sao',\n 'gói cước 35mbps 35mbps nhưng khi nào test cũng như vầy thất vọng quá',\n 'cho em hỏi là phim one piece trên phần phim truyện sao lại mất vậy ạ',\n 'em vừa liên hệ anh nhưng chưa thành công ạ',\n 'mà chương trinbf xem number tjan lau là k hiện nữa thôi',\n 'tôi dow number video mà chì dc khoảng number date kb s',\n 'tôi xài fpt từ number tới nay và bây giờ tôi hối hận vì đã chọn sử dụng dịch vụ của cty',\n 'có thê chat face được không d',\n 'để tôi thử lại',\n 'number phút sau anh truy cập lại giúp em ạ',\n 'tôi test đường truyền quốc tế quá thấp',\n 'vậy mình sẽ tắt modum',\n 'mà shop ơi sao phí cước lại tăng vậy',\n 'đăng xuất r là sau đăng nhập k còn báo trong hop dong nay nua dúng k',\n 'bên mình sao mạng kì vậy',\n 'ca ngay di lam tối về chỉ monh đc choi game giai tri',\n 'ok cam on a ạ',\n 'tăng băng thông mà thấy mạng chậm đi',\n 'fpt telecom xin chào ạ',\n 'hiện tại về nội dung anh báo được hạ do hết thời hạn phục vụ',\n 'em báo nhân viên thu cước qua nhà anh ở phố vọng anh đóng tiền number hợp đồng',\n 'ở tp thái nguyên phường tích lương',\n 'cái chuyển đổi băng thông thi lúc nào bắt đầu vậy',\n 'song wifi full nhung mang thi chap chon',\n 'trog khi đó đường truyền trong nước ổn định',\n 'thi tháng tới minh xin ngừng dịch vu ạ',\n 'chứ tinh trang này anh huong tới minh nhiêu quá',\n 'tín hiệu sẽ có gián đoạn khoảng 30s ạ',\n 'chúc anh buổi tối vui ạ',\n 'tín hiệu sẽ có gián đoạn khoảng 30s ạ',\n 'bên nv ở bp mới trao đổi hướng dẫn',\n 'mình cảm ơn rất nhiều',\n 'đóng một năm',\n 'date anh về đến phố vọng',\n 'thì tốc độ bao nhiêu vậy',\n 'gỡ de t đăng kia gói cươc mới cong dùng dc số dt nay',\n 'vai ngay nua t báo lắp mạng r báo cập nhập luôn nhé',\n 'ttin bên trên ạ',\n 'fpt telecom xin chào chị ạ',\n 'việc này nhân viên kinh doanh sẽ liên hệ tư vấn anh cụ thể ạ',\n 'fpt telecom xin chào ạ',\n 'bạn ơi cho mình hỏi',\n 'hiện tại e đang xài mạng của fpt',\n 'e hay chơi nhưng game điện thoại mà ping lúc nào cũng đỏ 238ms k chơi dc gì cả',\n 'ngày mai tôi sẽ báo kết quả nhé',\n 'nt thì hay lắm phone tôi đang muốn huỷ cắt internet của mấy người đây',\n 'tên người đăng kí phải không',\n 'fpt oi sao mạng kém vậy',\n 'em sẽ chuyển lại thông tin cho bộ phận cước ạ',\n 'mạng thì như rùa',\n 'anh ở đấy khoảng number tiếng',\n 'của tôi dow thì là khoảng 800kb s',\n 'em sẽ báo hệ thống gỡ số ra luôn ạ',\n 'mình không có nhu cầu nâng cấp hoặc thay đổi hợp đồng',\n 'ftel tự ý chuyển gói cước và tăng giá từ 120k 140k mỗi tháng là vi phạm',\n 'fpt telecom xin chào ạ',\n 'đừng chào nữa a xử lí luôn jùm e',\n 'em có thể liên hệ lại anh ngay qua qua số nào để tiện hỗ trợ ạ',\n 'từ khi thay modem mạng còn kém hơn trước',\n 'hiện tại em có thể liên hệ anh ngay qua số phone để tiện hỗ trợ nhé',\n 'e cần tư vấn ạ',\n 'fpt telecom có thể phục vụ anh thông tin gì ạ',\n 'bạn ơi cho mình hỏi',\n 'sao tôi chơi game mà toàn bị lỗi mạng vậy',\n 'nhưng mình ktra phần sắp hạ k bao h thấy có chương trình gì',\n 'đăng kí mình được giảm number ạ',\n 'nhân viên kinh doanh fpt sẽ đến nhà để làm hợp đồng ạ',\n 'vậy ưu đãi giảm number đến lúc nào v ạ',\n 'fpt telecom xin chào ạ',\n 'tên là đoàn thị nguyệt',\n 'sao mang dao nay yeu wa',\n 'dung roi ban',\n 'hay cứ để vậy',\n ...]"
     },
     "execution_count": 35,
     "metadata": {},
     "output_type": "execute_result"
    }
   ],
   "source": [
    "list_content"
   ],
   "metadata": {
    "collapsed": false,
    "ExecuteTime": {
     "end_time": "2023-07-03T09:21:03.324522300Z",
     "start_time": "2023-07-03T09:21:03.286023100Z"
    }
   }
  },
  {
   "cell_type": "markdown",
   "metadata": {},
   "source": [
    "# Begin test"
   ]
  },
  {
   "cell_type": "code",
   "execution_count": 10,
   "metadata": {
    "ExecuteTime": {
     "end_time": "2023-07-03T09:13:11.061022800Z",
     "start_time": "2023-07-03T09:13:11.034524Z"
    }
   },
   "outputs": [],
   "source": [
    "#test_content = 'Giam gia 30-50% toan bo SP tu 13-16/11 tren toan he thong SR cua FPTshop nhan dip SN 9 nam'.lower()\n",
    "#test_content_list = ['zxcvbnmasdfghjkl', 'Giam gia 30-50% toan bo SP tu 13-16/11 tren toan he thong SR cua FPTshop nhan dip SN 9 nam. Chi tiet tai www.fptshop.com.vn']"
   ]
  },
  {
   "cell_type": "code",
   "execution_count": 36,
   "metadata": {
    "ExecuteTime": {
     "end_time": "2023-07-03T09:21:15.113024200Z",
     "start_time": "2023-07-03T09:21:14.348023500Z"
    }
   },
   "outputs": [],
   "source": [
    "list_label, list_content = load_corpus_xlsx('./message_modified_v1.2.xlsx')"
   ]
  },
  {
   "cell_type": "code",
   "execution_count": 37,
   "metadata": {
    "ExecuteTime": {
     "end_time": "2023-07-03T09:21:16.503022200Z",
     "start_time": "2023-07-03T09:21:16.462023200Z"
    }
   },
   "outputs": [],
   "source": [
    "def test(list_content, test_content, list_label):\n",
    "    content = list_content.copy()\n",
    "    content.insert(0, test_content)\n",
    "    content = entity_tagging.entity_tagging(content)\n",
    "    # list_content_vec, list_len_sms, dictionary = utils.vectorize(content, 'bow')\n",
    "    list_content_vec, list_label, list_len_sms, dictionary = utils.doc_2_vec(list_content[1:], list_label, 'bow')\n",
    "    clf = utils.build_classifier_svm(list_content_vec, list_label)\n",
    "    pickle.dump(clf, open(r'..\\models\\bow_svm_clf.pkl', 'wb'))\n",
    "    \n",
    "    # Reads in saved classification model\n",
    "    load_clf = pickle.load(open(r'..\\models\\bow_svm_clf.pkl', 'rb'))\n",
    "\n",
    "    prediction = load_clf.predict(list_content_vec[:1])\n",
    "\n",
    "    return prediction"
   ]
  },
  {
   "cell_type": "code",
   "execution_count": 38,
   "metadata": {
    "ExecuteTime": {
     "end_time": "2023-07-03T09:21:24.936523200Z",
     "start_time": "2023-07-03T09:21:17.903522500Z"
    }
   },
   "outputs": [
    {
     "ename": "ValueError",
     "evalue": "Found input variables with inconsistent numbers of samples: [6309, 6310]",
     "output_type": "error",
     "traceback": [
      "\u001B[1;31m---------------------------------------------------------------------------\u001B[0m",
      "\u001B[1;31mValueError\u001B[0m                                Traceback (most recent call last)",
      "Cell \u001B[1;32mIn[38], line 2\u001B[0m\n\u001B[0;32m      1\u001B[0m \u001B[38;5;28;01mfor\u001B[39;00m content \u001B[38;5;129;01min\u001B[39;00m test_content_list:\n\u001B[1;32m----> 2\u001B[0m     prediction \u001B[38;5;241m=\u001B[39m \u001B[43mtest\u001B[49m\u001B[43m(\u001B[49m\u001B[43mlist_content\u001B[49m\u001B[43m \u001B[49m\u001B[43m,\u001B[49m\u001B[43mcontent\u001B[49m\u001B[43m,\u001B[49m\u001B[43m \u001B[49m\u001B[43mlist_label\u001B[49m\u001B[43m)\u001B[49m\n\u001B[0;32m      3\u001B[0m     \u001B[38;5;28mprint\u001B[39m(prediction)\n",
      "Cell \u001B[1;32mIn[37], line 7\u001B[0m, in \u001B[0;36mtest\u001B[1;34m(list_content, test_content, list_label)\u001B[0m\n\u001B[0;32m      5\u001B[0m \u001B[38;5;66;03m# list_content_vec, list_len_sms, dictionary = utils.vectorize(content, 'bow')\u001B[39;00m\n\u001B[0;32m      6\u001B[0m list_content_vec, list_label, list_len_sms, dictionary \u001B[38;5;241m=\u001B[39m utils\u001B[38;5;241m.\u001B[39mdoc_2_vec(list_content[\u001B[38;5;241m1\u001B[39m:], list_label, \u001B[38;5;124m'\u001B[39m\u001B[38;5;124mbow\u001B[39m\u001B[38;5;124m'\u001B[39m)\n\u001B[1;32m----> 7\u001B[0m clf \u001B[38;5;241m=\u001B[39m \u001B[43mutils\u001B[49m\u001B[38;5;241;43m.\u001B[39;49m\u001B[43mbuild_classifier_svm\u001B[49m\u001B[43m(\u001B[49m\u001B[43mlist_content_vec\u001B[49m\u001B[43m,\u001B[49m\u001B[43m \u001B[49m\u001B[43mlist_label\u001B[49m\u001B[43m)\u001B[49m\n\u001B[0;32m      8\u001B[0m pickle\u001B[38;5;241m.\u001B[39mdump(clf, \u001B[38;5;28mopen\u001B[39m(\u001B[38;5;124mr\u001B[39m\u001B[38;5;124m'\u001B[39m\u001B[38;5;124m..\u001B[39m\u001B[38;5;124m\\\u001B[39m\u001B[38;5;124mmodels\u001B[39m\u001B[38;5;124m\\\u001B[39m\u001B[38;5;124mbow_svm_clf.pkl\u001B[39m\u001B[38;5;124m'\u001B[39m, \u001B[38;5;124m'\u001B[39m\u001B[38;5;124mwb\u001B[39m\u001B[38;5;124m'\u001B[39m))\n\u001B[0;32m     10\u001B[0m \u001B[38;5;66;03m# Reads in saved classification model\u001B[39;00m\n",
      "File \u001B[1;32m~\\Desktop\\20222\\Spam-message-Vietnamese\\Dev\\vietnamese-spam-sms-filtering\\src\\utils.py:128\u001B[0m, in \u001B[0;36mbuild_classifier_svm\u001B[1;34m(content, label)\u001B[0m\n\u001B[0;32m    127\u001B[0m \u001B[38;5;28;01mdef\u001B[39;00m \u001B[38;5;21mbuild_classifier_svm\u001B[39m(content, label):\n\u001B[1;32m--> 128\u001B[0m     clf \u001B[38;5;241m=\u001B[39m \u001B[43msvm\u001B[49m\u001B[38;5;241;43m.\u001B[39;49m\u001B[43mLinearSVC\u001B[49m\u001B[43m(\u001B[49m\u001B[43mC\u001B[49m\u001B[38;5;241;43m=\u001B[39;49m\u001B[38;5;241;43m0.1\u001B[39;49m\u001B[43m,\u001B[49m\u001B[43m \u001B[49m\u001B[43mmax_iter\u001B[49m\u001B[38;5;241;43m=\u001B[39;49m\u001B[38;5;241;43m10000\u001B[39;49m\u001B[43m,\u001B[49m\u001B[43m \u001B[49m\u001B[43mdual\u001B[49m\u001B[38;5;241;43m=\u001B[39;49m\u001B[38;5;28;43;01mFalse\u001B[39;49;00m\u001B[43m)\u001B[49m\u001B[38;5;241;43m.\u001B[39;49m\u001B[43mfit\u001B[49m\u001B[43m(\u001B[49m\u001B[43mcontent\u001B[49m\u001B[43m,\u001B[49m\u001B[43m \u001B[49m\u001B[43mlabel\u001B[49m\u001B[43m)\u001B[49m\n\u001B[0;32m    129\u001B[0m     \u001B[38;5;28;01mreturn\u001B[39;00m clf\n",
      "File \u001B[1;32m~\\AppData\\Local\\anaconda3\\lib\\site-packages\\sklearn\\svm\\_classes.py:263\u001B[0m, in \u001B[0;36mLinearSVC.fit\u001B[1;34m(self, X, y, sample_weight)\u001B[0m\n\u001B[0;32m    238\u001B[0m \u001B[38;5;124;03m\"\"\"Fit the model according to the given training data.\u001B[39;00m\n\u001B[0;32m    239\u001B[0m \n\u001B[0;32m    240\u001B[0m \u001B[38;5;124;03mParameters\u001B[39;00m\n\u001B[1;32m   (...)\u001B[0m\n\u001B[0;32m    259\u001B[0m \u001B[38;5;124;03m    An instance of the estimator.\u001B[39;00m\n\u001B[0;32m    260\u001B[0m \u001B[38;5;124;03m\"\"\"\u001B[39;00m\n\u001B[0;32m    261\u001B[0m \u001B[38;5;28mself\u001B[39m\u001B[38;5;241m.\u001B[39m_validate_params()\n\u001B[1;32m--> 263\u001B[0m X, y \u001B[38;5;241m=\u001B[39m \u001B[38;5;28;43mself\u001B[39;49m\u001B[38;5;241;43m.\u001B[39;49m\u001B[43m_validate_data\u001B[49m\u001B[43m(\u001B[49m\n\u001B[0;32m    264\u001B[0m \u001B[43m    \u001B[49m\u001B[43mX\u001B[49m\u001B[43m,\u001B[49m\n\u001B[0;32m    265\u001B[0m \u001B[43m    \u001B[49m\u001B[43my\u001B[49m\u001B[43m,\u001B[49m\n\u001B[0;32m    266\u001B[0m \u001B[43m    \u001B[49m\u001B[43maccept_sparse\u001B[49m\u001B[38;5;241;43m=\u001B[39;49m\u001B[38;5;124;43m\"\u001B[39;49m\u001B[38;5;124;43mcsr\u001B[39;49m\u001B[38;5;124;43m\"\u001B[39;49m\u001B[43m,\u001B[49m\n\u001B[0;32m    267\u001B[0m \u001B[43m    \u001B[49m\u001B[43mdtype\u001B[49m\u001B[38;5;241;43m=\u001B[39;49m\u001B[43mnp\u001B[49m\u001B[38;5;241;43m.\u001B[39;49m\u001B[43mfloat64\u001B[49m\u001B[43m,\u001B[49m\n\u001B[0;32m    268\u001B[0m \u001B[43m    \u001B[49m\u001B[43morder\u001B[49m\u001B[38;5;241;43m=\u001B[39;49m\u001B[38;5;124;43m\"\u001B[39;49m\u001B[38;5;124;43mC\u001B[39;49m\u001B[38;5;124;43m\"\u001B[39;49m\u001B[43m,\u001B[49m\n\u001B[0;32m    269\u001B[0m \u001B[43m    \u001B[49m\u001B[43maccept_large_sparse\u001B[49m\u001B[38;5;241;43m=\u001B[39;49m\u001B[38;5;28;43;01mFalse\u001B[39;49;00m\u001B[43m,\u001B[49m\n\u001B[0;32m    270\u001B[0m \u001B[43m\u001B[49m\u001B[43m)\u001B[49m\n\u001B[0;32m    271\u001B[0m check_classification_targets(y)\n\u001B[0;32m    272\u001B[0m \u001B[38;5;28mself\u001B[39m\u001B[38;5;241m.\u001B[39mclasses_ \u001B[38;5;241m=\u001B[39m np\u001B[38;5;241m.\u001B[39munique(y)\n",
      "File \u001B[1;32m~\\AppData\\Local\\anaconda3\\lib\\site-packages\\sklearn\\base.py:584\u001B[0m, in \u001B[0;36mBaseEstimator._validate_data\u001B[1;34m(self, X, y, reset, validate_separately, **check_params)\u001B[0m\n\u001B[0;32m    582\u001B[0m         y \u001B[38;5;241m=\u001B[39m check_array(y, input_name\u001B[38;5;241m=\u001B[39m\u001B[38;5;124m\"\u001B[39m\u001B[38;5;124my\u001B[39m\u001B[38;5;124m\"\u001B[39m, \u001B[38;5;241m*\u001B[39m\u001B[38;5;241m*\u001B[39mcheck_y_params)\n\u001B[0;32m    583\u001B[0m     \u001B[38;5;28;01melse\u001B[39;00m:\n\u001B[1;32m--> 584\u001B[0m         X, y \u001B[38;5;241m=\u001B[39m check_X_y(X, y, \u001B[38;5;241m*\u001B[39m\u001B[38;5;241m*\u001B[39mcheck_params)\n\u001B[0;32m    585\u001B[0m     out \u001B[38;5;241m=\u001B[39m X, y\n\u001B[0;32m    587\u001B[0m \u001B[38;5;28;01mif\u001B[39;00m \u001B[38;5;129;01mnot\u001B[39;00m no_val_X \u001B[38;5;129;01mand\u001B[39;00m check_params\u001B[38;5;241m.\u001B[39mget(\u001B[38;5;124m\"\u001B[39m\u001B[38;5;124mensure_2d\u001B[39m\u001B[38;5;124m\"\u001B[39m, \u001B[38;5;28;01mTrue\u001B[39;00m):\n",
      "File \u001B[1;32m~\\AppData\\Local\\anaconda3\\lib\\site-packages\\sklearn\\utils\\validation.py:1124\u001B[0m, in \u001B[0;36mcheck_X_y\u001B[1;34m(X, y, accept_sparse, accept_large_sparse, dtype, order, copy, force_all_finite, ensure_2d, allow_nd, multi_output, ensure_min_samples, ensure_min_features, y_numeric, estimator)\u001B[0m\n\u001B[0;32m   1106\u001B[0m X \u001B[38;5;241m=\u001B[39m check_array(\n\u001B[0;32m   1107\u001B[0m     X,\n\u001B[0;32m   1108\u001B[0m     accept_sparse\u001B[38;5;241m=\u001B[39maccept_sparse,\n\u001B[1;32m   (...)\u001B[0m\n\u001B[0;32m   1119\u001B[0m     input_name\u001B[38;5;241m=\u001B[39m\u001B[38;5;124m\"\u001B[39m\u001B[38;5;124mX\u001B[39m\u001B[38;5;124m\"\u001B[39m,\n\u001B[0;32m   1120\u001B[0m )\n\u001B[0;32m   1122\u001B[0m y \u001B[38;5;241m=\u001B[39m _check_y(y, multi_output\u001B[38;5;241m=\u001B[39mmulti_output, y_numeric\u001B[38;5;241m=\u001B[39my_numeric, estimator\u001B[38;5;241m=\u001B[39mestimator)\n\u001B[1;32m-> 1124\u001B[0m \u001B[43mcheck_consistent_length\u001B[49m\u001B[43m(\u001B[49m\u001B[43mX\u001B[49m\u001B[43m,\u001B[49m\u001B[43m \u001B[49m\u001B[43my\u001B[49m\u001B[43m)\u001B[49m\n\u001B[0;32m   1126\u001B[0m \u001B[38;5;28;01mreturn\u001B[39;00m X, y\n",
      "File \u001B[1;32m~\\AppData\\Local\\anaconda3\\lib\\site-packages\\sklearn\\utils\\validation.py:397\u001B[0m, in \u001B[0;36mcheck_consistent_length\u001B[1;34m(*arrays)\u001B[0m\n\u001B[0;32m    395\u001B[0m uniques \u001B[38;5;241m=\u001B[39m np\u001B[38;5;241m.\u001B[39munique(lengths)\n\u001B[0;32m    396\u001B[0m \u001B[38;5;28;01mif\u001B[39;00m \u001B[38;5;28mlen\u001B[39m(uniques) \u001B[38;5;241m>\u001B[39m \u001B[38;5;241m1\u001B[39m:\n\u001B[1;32m--> 397\u001B[0m     \u001B[38;5;28;01mraise\u001B[39;00m \u001B[38;5;167;01mValueError\u001B[39;00m(\n\u001B[0;32m    398\u001B[0m         \u001B[38;5;124m\"\u001B[39m\u001B[38;5;124mFound input variables with inconsistent numbers of samples: \u001B[39m\u001B[38;5;132;01m%r\u001B[39;00m\u001B[38;5;124m\"\u001B[39m\n\u001B[0;32m    399\u001B[0m         \u001B[38;5;241m%\u001B[39m [\u001B[38;5;28mint\u001B[39m(l) \u001B[38;5;28;01mfor\u001B[39;00m l \u001B[38;5;129;01min\u001B[39;00m lengths]\n\u001B[0;32m    400\u001B[0m     )\n",
      "\u001B[1;31mValueError\u001B[0m: Found input variables with inconsistent numbers of samples: [6309, 6310]"
     ]
    }
   ],
   "source": [
    "for content in test_content_list:\n",
    "    prediction = test(list_content ,content, list_label)\n",
    "    print(prediction)"
   ]
  },
  {
   "cell_type": "code",
   "execution_count": 39,
   "metadata": {
    "ExecuteTime": {
     "end_time": "2023-07-03T09:21:26.996524400Z",
     "start_time": "2023-07-03T09:21:26.975024400Z"
    }
   },
   "outputs": [],
   "source": [
    "list_content.insert(0, test_content)"
   ]
  },
  {
   "cell_type": "code",
   "execution_count": 40,
   "metadata": {
    "ExecuteTime": {
     "end_time": "2023-07-03T09:21:34.005523Z",
     "start_time": "2023-07-03T09:21:27.647525200Z"
    }
   },
   "outputs": [],
   "source": [
    "list_content = entity_tagging.entity_tagging(list_content)"
   ]
  },
  {
   "cell_type": "code",
   "execution_count": 41,
   "metadata": {
    "ExecuteTime": {
     "end_time": "2023-07-03T09:21:34.733524800Z",
     "start_time": "2023-07-03T09:21:34.008522400Z"
    }
   },
   "outputs": [],
   "source": [
    "list_content_vec, list_len_sms, dictionary = utils.vectorize(list_content, 'tfidf')"
   ]
  },
  {
   "cell_type": "code",
   "execution_count": 42,
   "metadata": {
    "ExecuteTime": {
     "end_time": "2023-07-03T09:21:37.352054500Z",
     "start_time": "2023-07-03T09:21:36.151524700Z"
    }
   },
   "outputs": [],
   "source": [
    "list_content_vec, list_label, list_len_sms, dictionary = utils.doc_2_vec(list_content[1:], list_label, 'bow')"
   ]
  },
  {
   "cell_type": "code",
   "execution_count": 43,
   "metadata": {
    "ExecuteTime": {
     "end_time": "2023-07-03T09:21:37.877022600Z",
     "start_time": "2023-07-03T09:21:37.855023100Z"
    }
   },
   "outputs": [
    {
     "data": {
      "text/plain": "(6310, 2063)"
     },
     "execution_count": 43,
     "metadata": {},
     "output_type": "execute_result"
    }
   ],
   "source": [
    "list_content_vec.shape"
   ]
  },
  {
   "cell_type": "code",
   "execution_count": 44,
   "metadata": {
    "ExecuteTime": {
     "end_time": "2023-07-03T09:21:38.701025100Z",
     "start_time": "2023-07-03T09:21:38.616524Z"
    }
   },
   "outputs": [],
   "source": [
    "clf = utils.build_classifier_svm(list_content_vec, list_label)\n",
    "pickle.dump(clf, open(r'..\\models\\bow_svm_clf.pkl', 'wb'))"
   ]
  },
  {
   "cell_type": "code",
   "execution_count": 45,
   "metadata": {
    "ExecuteTime": {
     "end_time": "2023-07-03T09:21:39.272028900Z",
     "start_time": "2023-07-03T09:21:39.237023800Z"
    }
   },
   "outputs": [
    {
     "name": "stderr",
     "output_type": "stream",
     "text": [
      "C:\\Users\\MINH.NV193012\\AppData\\Local\\anaconda3\\lib\\site-packages\\sklearn\\base.py:318: UserWarning: Trying to unpickle estimator LinearSVC from version 1.0.1 when using version 1.2.2. This might lead to breaking code or invalid results. Use at your own risk. For more info please refer to:\n",
      "https://scikit-learn.org/stable/model_persistence.html#security-maintainability-limitations\n",
      "  warnings.warn(\n"
     ]
    }
   ],
   "source": [
    "# Reads in saved classification model\n",
    "load_clf = pickle.load(open(r'..\\models\\tfidf_svm_clf.pkl', 'rb'))"
   ]
  },
  {
   "cell_type": "code",
   "execution_count": 46,
   "metadata": {
    "ExecuteTime": {
     "end_time": "2023-07-03T09:21:40.299525800Z",
     "start_time": "2023-07-03T09:21:40.255524400Z"
    }
   },
   "outputs": [
    {
     "data": {
      "text/plain": "array([[1., 1., 1., ..., 0., 0., 4.]])"
     },
     "execution_count": 46,
     "metadata": {},
     "output_type": "execute_result"
    }
   ],
   "source": [
    "list_content_vec[:1]"
   ]
  },
  {
   "cell_type": "code",
   "execution_count": 47,
   "metadata": {
    "ExecuteTime": {
     "end_time": "2023-07-03T09:21:41.741023300Z",
     "start_time": "2023-07-03T09:21:41.725024400Z"
    }
   },
   "outputs": [
    {
     "data": {
      "text/plain": "array([0], dtype=int64)"
     },
     "execution_count": 47,
     "metadata": {},
     "output_type": "execute_result"
    }
   ],
   "source": [
    "load_clf.predict(list_content_vec[:1])"
   ]
  },
  {
   "cell_type": "markdown",
   "metadata": {},
   "source": [
    "# End test"
   ]
  },
  {
   "cell_type": "code",
   "execution_count": 48,
   "metadata": {
    "ExecuteTime": {
     "end_time": "2023-07-03T09:21:45.782522600Z",
     "start_time": "2023-07-03T09:21:45.775523500Z"
    }
   },
   "outputs": [],
   "source": [
    "def train_evaluation(list_label, list_content, vectorize_method, classifier_list):\n",
    "\n",
    "    if vectorize_method == 'bow':\n",
    "        list_content_vec, list_label, list_len_sms, dictionary = utils.doc_2_vec(list_content, list_label, 'bow')\n",
    "\n",
    "    if vectorize_method == 'tfidf':\n",
    "        list_content_vec, list_label, list_len_sms, dictionary = utils.doc_2_vec(list_content, list_label, 'tfidf')\n",
    "\n",
    "    for i in classifier_list:\n",
    "        list_false_positive, list_false_negative, list_true_positive, list_true_negative = \\\n",
    "        utils.kfold_classification(list_content, list_content_vec, list_label, i, 5, vectorize_method)\n",
    "        # print(list_false_positive)\n",
    "        # print(list_false_negative)\n",
    "        # print(list_true_positive)\n",
    "        # print(list_true_negative)\n",
    "        print('Evaluation for ' + i.upper())\n",
    "        utils.evaluation(list_false_positive, list_false_negative, list_true_positive, list_true_negative)\n",
    "        print('-------------------------------------------------')"
   ]
  },
  {
   "cell_type": "code",
   "execution_count": 49,
   "metadata": {
    "ExecuteTime": {
     "end_time": "2023-07-03T09:21:47.097525800Z",
     "start_time": "2023-07-03T09:21:47.073523600Z"
    }
   },
   "outputs": [],
   "source": [
    "def train_entire_dataset(list_content, list_label, vectorize_method):\n",
    "    list_content_vec, list_label, list_len_sms, dictionary = utils.doc_2_vec(list_content, list_label, vectorize_method)\n",
    "    print(list_content_vec.shape)\n",
    "    clf = utils.build_classifier_svm(list_content_vec, list_label)\n",
    "    pickle.dump(clf, open(r'../\\models\\tfidf_svm_clf.pkl', 'wb'))\n",
    "    print('Traning Done!')"
   ]
  },
  {
   "cell_type": "code",
   "execution_count": 50,
   "metadata": {
    "ExecuteTime": {
     "end_time": "2023-07-03T09:21:49.486022500Z",
     "start_time": "2023-07-03T09:21:48.106024Z"
    }
   },
   "outputs": [
    {
     "name": "stdout",
     "output_type": "stream",
     "text": [
      "(6311, 2064)\n"
     ]
    },
    {
     "ename": "ValueError",
     "evalue": "Found input variables with inconsistent numbers of samples: [6311, 6310]",
     "output_type": "error",
     "traceback": [
      "\u001B[1;31m---------------------------------------------------------------------------\u001B[0m",
      "\u001B[1;31mValueError\u001B[0m                                Traceback (most recent call last)",
      "Cell \u001B[1;32mIn[50], line 1\u001B[0m\n\u001B[1;32m----> 1\u001B[0m \u001B[43mtrain_entire_dataset\u001B[49m\u001B[43m(\u001B[49m\u001B[43mlist_content\u001B[49m\u001B[43m,\u001B[49m\u001B[43m \u001B[49m\u001B[43mlist_label\u001B[49m\u001B[43m,\u001B[49m\u001B[38;5;124;43m'\u001B[39;49m\u001B[38;5;124;43mtfidf\u001B[39;49m\u001B[38;5;124;43m'\u001B[39;49m\u001B[43m)\u001B[49m\n",
      "Cell \u001B[1;32mIn[49], line 4\u001B[0m, in \u001B[0;36mtrain_entire_dataset\u001B[1;34m(list_content, list_label, vectorize_method)\u001B[0m\n\u001B[0;32m      2\u001B[0m list_content_vec, list_label, list_len_sms, dictionary \u001B[38;5;241m=\u001B[39m utils\u001B[38;5;241m.\u001B[39mdoc_2_vec(list_content, list_label, vectorize_method)\n\u001B[0;32m      3\u001B[0m \u001B[38;5;28mprint\u001B[39m(list_content_vec\u001B[38;5;241m.\u001B[39mshape)\n\u001B[1;32m----> 4\u001B[0m clf \u001B[38;5;241m=\u001B[39m \u001B[43mutils\u001B[49m\u001B[38;5;241;43m.\u001B[39;49m\u001B[43mbuild_classifier_svm\u001B[49m\u001B[43m(\u001B[49m\u001B[43mlist_content_vec\u001B[49m\u001B[43m,\u001B[49m\u001B[43m \u001B[49m\u001B[43mlist_label\u001B[49m\u001B[43m)\u001B[49m\n\u001B[0;32m      5\u001B[0m pickle\u001B[38;5;241m.\u001B[39mdump(clf, \u001B[38;5;28mopen\u001B[39m(\u001B[38;5;124mr\u001B[39m\u001B[38;5;124m'\u001B[39m\u001B[38;5;124m../\u001B[39m\u001B[38;5;124m\\\u001B[39m\u001B[38;5;124mmodels\u001B[39m\u001B[38;5;124m\\\u001B[39m\u001B[38;5;124mtfidf_svm_clf.pkl\u001B[39m\u001B[38;5;124m'\u001B[39m, \u001B[38;5;124m'\u001B[39m\u001B[38;5;124mwb\u001B[39m\u001B[38;5;124m'\u001B[39m))\n\u001B[0;32m      6\u001B[0m \u001B[38;5;28mprint\u001B[39m(\u001B[38;5;124m'\u001B[39m\u001B[38;5;124mTraning Done!\u001B[39m\u001B[38;5;124m'\u001B[39m)\n",
      "File \u001B[1;32m~\\Desktop\\20222\\Spam-message-Vietnamese\\Dev\\vietnamese-spam-sms-filtering\\src\\utils.py:128\u001B[0m, in \u001B[0;36mbuild_classifier_svm\u001B[1;34m(content, label)\u001B[0m\n\u001B[0;32m    127\u001B[0m \u001B[38;5;28;01mdef\u001B[39;00m \u001B[38;5;21mbuild_classifier_svm\u001B[39m(content, label):\n\u001B[1;32m--> 128\u001B[0m     clf \u001B[38;5;241m=\u001B[39m \u001B[43msvm\u001B[49m\u001B[38;5;241;43m.\u001B[39;49m\u001B[43mLinearSVC\u001B[49m\u001B[43m(\u001B[49m\u001B[43mC\u001B[49m\u001B[38;5;241;43m=\u001B[39;49m\u001B[38;5;241;43m0.1\u001B[39;49m\u001B[43m,\u001B[49m\u001B[43m \u001B[49m\u001B[43mmax_iter\u001B[49m\u001B[38;5;241;43m=\u001B[39;49m\u001B[38;5;241;43m10000\u001B[39;49m\u001B[43m,\u001B[49m\u001B[43m \u001B[49m\u001B[43mdual\u001B[49m\u001B[38;5;241;43m=\u001B[39;49m\u001B[38;5;28;43;01mFalse\u001B[39;49;00m\u001B[43m)\u001B[49m\u001B[38;5;241;43m.\u001B[39;49m\u001B[43mfit\u001B[49m\u001B[43m(\u001B[49m\u001B[43mcontent\u001B[49m\u001B[43m,\u001B[49m\u001B[43m \u001B[49m\u001B[43mlabel\u001B[49m\u001B[43m)\u001B[49m\n\u001B[0;32m    129\u001B[0m     \u001B[38;5;28;01mreturn\u001B[39;00m clf\n",
      "File \u001B[1;32m~\\AppData\\Local\\anaconda3\\lib\\site-packages\\sklearn\\svm\\_classes.py:263\u001B[0m, in \u001B[0;36mLinearSVC.fit\u001B[1;34m(self, X, y, sample_weight)\u001B[0m\n\u001B[0;32m    238\u001B[0m \u001B[38;5;124;03m\"\"\"Fit the model according to the given training data.\u001B[39;00m\n\u001B[0;32m    239\u001B[0m \n\u001B[0;32m    240\u001B[0m \u001B[38;5;124;03mParameters\u001B[39;00m\n\u001B[1;32m   (...)\u001B[0m\n\u001B[0;32m    259\u001B[0m \u001B[38;5;124;03m    An instance of the estimator.\u001B[39;00m\n\u001B[0;32m    260\u001B[0m \u001B[38;5;124;03m\"\"\"\u001B[39;00m\n\u001B[0;32m    261\u001B[0m \u001B[38;5;28mself\u001B[39m\u001B[38;5;241m.\u001B[39m_validate_params()\n\u001B[1;32m--> 263\u001B[0m X, y \u001B[38;5;241m=\u001B[39m \u001B[38;5;28;43mself\u001B[39;49m\u001B[38;5;241;43m.\u001B[39;49m\u001B[43m_validate_data\u001B[49m\u001B[43m(\u001B[49m\n\u001B[0;32m    264\u001B[0m \u001B[43m    \u001B[49m\u001B[43mX\u001B[49m\u001B[43m,\u001B[49m\n\u001B[0;32m    265\u001B[0m \u001B[43m    \u001B[49m\u001B[43my\u001B[49m\u001B[43m,\u001B[49m\n\u001B[0;32m    266\u001B[0m \u001B[43m    \u001B[49m\u001B[43maccept_sparse\u001B[49m\u001B[38;5;241;43m=\u001B[39;49m\u001B[38;5;124;43m\"\u001B[39;49m\u001B[38;5;124;43mcsr\u001B[39;49m\u001B[38;5;124;43m\"\u001B[39;49m\u001B[43m,\u001B[49m\n\u001B[0;32m    267\u001B[0m \u001B[43m    \u001B[49m\u001B[43mdtype\u001B[49m\u001B[38;5;241;43m=\u001B[39;49m\u001B[43mnp\u001B[49m\u001B[38;5;241;43m.\u001B[39;49m\u001B[43mfloat64\u001B[49m\u001B[43m,\u001B[49m\n\u001B[0;32m    268\u001B[0m \u001B[43m    \u001B[49m\u001B[43morder\u001B[49m\u001B[38;5;241;43m=\u001B[39;49m\u001B[38;5;124;43m\"\u001B[39;49m\u001B[38;5;124;43mC\u001B[39;49m\u001B[38;5;124;43m\"\u001B[39;49m\u001B[43m,\u001B[49m\n\u001B[0;32m    269\u001B[0m \u001B[43m    \u001B[49m\u001B[43maccept_large_sparse\u001B[49m\u001B[38;5;241;43m=\u001B[39;49m\u001B[38;5;28;43;01mFalse\u001B[39;49;00m\u001B[43m,\u001B[49m\n\u001B[0;32m    270\u001B[0m \u001B[43m\u001B[49m\u001B[43m)\u001B[49m\n\u001B[0;32m    271\u001B[0m check_classification_targets(y)\n\u001B[0;32m    272\u001B[0m \u001B[38;5;28mself\u001B[39m\u001B[38;5;241m.\u001B[39mclasses_ \u001B[38;5;241m=\u001B[39m np\u001B[38;5;241m.\u001B[39munique(y)\n",
      "File \u001B[1;32m~\\AppData\\Local\\anaconda3\\lib\\site-packages\\sklearn\\base.py:584\u001B[0m, in \u001B[0;36mBaseEstimator._validate_data\u001B[1;34m(self, X, y, reset, validate_separately, **check_params)\u001B[0m\n\u001B[0;32m    582\u001B[0m         y \u001B[38;5;241m=\u001B[39m check_array(y, input_name\u001B[38;5;241m=\u001B[39m\u001B[38;5;124m\"\u001B[39m\u001B[38;5;124my\u001B[39m\u001B[38;5;124m\"\u001B[39m, \u001B[38;5;241m*\u001B[39m\u001B[38;5;241m*\u001B[39mcheck_y_params)\n\u001B[0;32m    583\u001B[0m     \u001B[38;5;28;01melse\u001B[39;00m:\n\u001B[1;32m--> 584\u001B[0m         X, y \u001B[38;5;241m=\u001B[39m check_X_y(X, y, \u001B[38;5;241m*\u001B[39m\u001B[38;5;241m*\u001B[39mcheck_params)\n\u001B[0;32m    585\u001B[0m     out \u001B[38;5;241m=\u001B[39m X, y\n\u001B[0;32m    587\u001B[0m \u001B[38;5;28;01mif\u001B[39;00m \u001B[38;5;129;01mnot\u001B[39;00m no_val_X \u001B[38;5;129;01mand\u001B[39;00m check_params\u001B[38;5;241m.\u001B[39mget(\u001B[38;5;124m\"\u001B[39m\u001B[38;5;124mensure_2d\u001B[39m\u001B[38;5;124m\"\u001B[39m, \u001B[38;5;28;01mTrue\u001B[39;00m):\n",
      "File \u001B[1;32m~\\AppData\\Local\\anaconda3\\lib\\site-packages\\sklearn\\utils\\validation.py:1124\u001B[0m, in \u001B[0;36mcheck_X_y\u001B[1;34m(X, y, accept_sparse, accept_large_sparse, dtype, order, copy, force_all_finite, ensure_2d, allow_nd, multi_output, ensure_min_samples, ensure_min_features, y_numeric, estimator)\u001B[0m\n\u001B[0;32m   1106\u001B[0m X \u001B[38;5;241m=\u001B[39m check_array(\n\u001B[0;32m   1107\u001B[0m     X,\n\u001B[0;32m   1108\u001B[0m     accept_sparse\u001B[38;5;241m=\u001B[39maccept_sparse,\n\u001B[1;32m   (...)\u001B[0m\n\u001B[0;32m   1119\u001B[0m     input_name\u001B[38;5;241m=\u001B[39m\u001B[38;5;124m\"\u001B[39m\u001B[38;5;124mX\u001B[39m\u001B[38;5;124m\"\u001B[39m,\n\u001B[0;32m   1120\u001B[0m )\n\u001B[0;32m   1122\u001B[0m y \u001B[38;5;241m=\u001B[39m _check_y(y, multi_output\u001B[38;5;241m=\u001B[39mmulti_output, y_numeric\u001B[38;5;241m=\u001B[39my_numeric, estimator\u001B[38;5;241m=\u001B[39mestimator)\n\u001B[1;32m-> 1124\u001B[0m \u001B[43mcheck_consistent_length\u001B[49m\u001B[43m(\u001B[49m\u001B[43mX\u001B[49m\u001B[43m,\u001B[49m\u001B[43m \u001B[49m\u001B[43my\u001B[49m\u001B[43m)\u001B[49m\n\u001B[0;32m   1126\u001B[0m \u001B[38;5;28;01mreturn\u001B[39;00m X, y\n",
      "File \u001B[1;32m~\\AppData\\Local\\anaconda3\\lib\\site-packages\\sklearn\\utils\\validation.py:397\u001B[0m, in \u001B[0;36mcheck_consistent_length\u001B[1;34m(*arrays)\u001B[0m\n\u001B[0;32m    395\u001B[0m uniques \u001B[38;5;241m=\u001B[39m np\u001B[38;5;241m.\u001B[39munique(lengths)\n\u001B[0;32m    396\u001B[0m \u001B[38;5;28;01mif\u001B[39;00m \u001B[38;5;28mlen\u001B[39m(uniques) \u001B[38;5;241m>\u001B[39m \u001B[38;5;241m1\u001B[39m:\n\u001B[1;32m--> 397\u001B[0m     \u001B[38;5;28;01mraise\u001B[39;00m \u001B[38;5;167;01mValueError\u001B[39;00m(\n\u001B[0;32m    398\u001B[0m         \u001B[38;5;124m\"\u001B[39m\u001B[38;5;124mFound input variables with inconsistent numbers of samples: \u001B[39m\u001B[38;5;132;01m%r\u001B[39;00m\u001B[38;5;124m\"\u001B[39m\n\u001B[0;32m    399\u001B[0m         \u001B[38;5;241m%\u001B[39m [\u001B[38;5;28mint\u001B[39m(l) \u001B[38;5;28;01mfor\u001B[39;00m l \u001B[38;5;129;01min\u001B[39;00m lengths]\n\u001B[0;32m    400\u001B[0m     )\n",
      "\u001B[1;31mValueError\u001B[0m: Found input variables with inconsistent numbers of samples: [6311, 6310]"
     ]
    }
   ],
   "source": [
    "train_entire_dataset(list_content, list_label,'tfidf')"
   ]
  },
  {
   "cell_type": "code",
   "execution_count": 51,
   "metadata": {
    "ExecuteTime": {
     "end_time": "2023-07-03T09:23:01.684024700Z",
     "start_time": "2023-07-03T09:21:53.979522400Z"
    }
   },
   "outputs": [
    {
     "name": "stdout",
     "output_type": "stream",
     "text": [
      "Evaluation for NB\n",
      "False Positive Rate: 0.9541800989593946%\n",
      "False Negative Rate: 19.025578974670395%\n",
      "True Positive Rate: 80.9744210253296%\n",
      "True Negative Rate: 99.0458199010406%\n",
      "-------------------------------------------------\n",
      "Evaluation for SVM\n",
      "False Positive Rate: 1.2223306058648087%\n",
      "False Negative Rate: 21.840499634605436%\n",
      "True Positive Rate: 78.15950036539456%\n",
      "True Negative Rate: 98.77766939413519%\n",
      "-------------------------------------------------\n",
      "Evaluation for DT\n",
      "False Positive Rate: 4.32384060630668%\n",
      "False Negative Rate: 22.174555353699805%\n",
      "True Positive Rate: 77.8254446463002%\n",
      "True Negative Rate: 95.67615939369333%\n",
      "-------------------------------------------------\n",
      "Evaluation for KNN\n",
      "False Positive Rate: 1.695334211614149%\n",
      "False Negative Rate: 44.56268999812373%\n",
      "True Positive Rate: 55.43731000187626%\n",
      "True Negative Rate: 98.30466578838585%\n",
      "-------------------------------------------------\n",
      "Evaluation for MAXENT\n",
      "False Positive Rate: 1.2221871235490043%\n",
      "False Negative Rate: 22.324514860972062%\n",
      "True Positive Rate: 77.67548513902794%\n",
      "True Negative Rate: 98.777812876451%\n",
      "-------------------------------------------------\n",
      "Evaluation for BASELINE\n",
      "False Positive Rate: 0.019065776930409915%\n",
      "False Negative Rate: 99.90654205607477%\n",
      "True Positive Rate: 0.09345794392523364%\n",
      "True Negative Rate: 99.98093422306958%\n",
      "-------------------------------------------------\n"
     ]
    }
   ],
   "source": [
    "train_evaluation(list_label, list_content, 'bow', classifier_list)"
   ]
  },
  {
   "cell_type": "markdown",
   "source": [],
   "metadata": {
    "collapsed": false
   }
  },
  {
   "cell_type": "code",
   "execution_count": 52,
   "metadata": {
    "ExecuteTime": {
     "end_time": "2023-07-03T10:30:39.172524100Z",
     "start_time": "2023-07-03T10:29:45.650025300Z"
    }
   },
   "outputs": [
    {
     "name": "stdout",
     "output_type": "stream",
     "text": [
      "Evaluation for NB\n",
      "False Positive Rate: 0.05716447068948104%\n",
      "False Negative Rate: 85.89971877561689%\n",
      "True Positive Rate: 14.100281224383105%\n",
      "True Negative Rate: 99.94283552931051%\n",
      "-------------------------------------------------\n",
      "Evaluation for SVM\n",
      "False Positive Rate: 0.819530211314981%\n",
      "False Negative Rate: 30.964333257453134%\n",
      "True Positive Rate: 69.03566674254688%\n",
      "True Negative Rate: 99.18046978868502%\n",
      "-------------------------------------------------\n",
      "Evaluation for DT\n",
      "False Positive Rate: 5.315813996700265%\n",
      "False Negative Rate: 25.574637953909605%\n",
      "True Positive Rate: 74.4253620460904%\n",
      "True Negative Rate: 94.68418600329971%\n",
      "-------------------------------------------------\n",
      "Evaluation for KNN\n",
      "False Positive Rate: 2.3629499572274137%\n",
      "False Negative Rate: 50.76606017370285%\n",
      "True Positive Rate: 49.23393982629715%\n",
      "True Negative Rate: 97.63705004277259%\n",
      "-------------------------------------------------\n",
      "Evaluation for MAXENT\n",
      "False Positive Rate: 0.8387066104594467%\n",
      "False Negative Rate: 33.235162383338384%\n",
      "True Positive Rate: 66.76483761666161%\n",
      "True Negative Rate: 99.16129338954056%\n",
      "-------------------------------------------------\n",
      "Evaluation for BASELINE\n",
      "False Positive Rate: 0.019065776930409915%\n",
      "False Negative Rate: 99.90654205607477%\n",
      "True Positive Rate: 0.09345794392523364%\n",
      "True Negative Rate: 99.98093422306958%\n",
      "-------------------------------------------------\n"
     ]
    }
   ],
   "source": [
    "train_evaluation(list_label, list_content, 'tfidf', classifier_list)"
   ]
  },
  {
   "cell_type": "code",
   "execution_count": 21,
   "metadata": {
    "ExecuteTime": {
     "end_time": "2023-07-03T09:16:49.058024500Z",
     "start_time": "2023-07-03T09:16:26.044024Z"
    }
   },
   "outputs": [
    {
     "name": "stdout",
     "output_type": "stream",
     "text": [
      "Requirement already satisfied: scikit-learn in c:\\users\\minh.nv193012\\appdata\\local\\anaconda3\\lib\\site-packages (1.2.2)\n",
      "Collecting scikit-learn\n",
      "  Downloading scikit_learn-1.3.0-cp310-cp310-win_amd64.whl (9.2 MB)\n",
      "     ---------------------------------------- 9.2/9.2 MB 8.4 MB/s eta 0:00:00\n",
      "Requirement already satisfied: numpy>=1.17.3 in c:\\users\\minh.nv193012\\appdata\\local\\anaconda3\\lib\\site-packages (from scikit-learn) (1.23.5)\n",
      "Requirement already satisfied: threadpoolctl>=2.0.0 in c:\\users\\minh.nv193012\\appdata\\local\\anaconda3\\lib\\site-packages (from scikit-learn) (2.2.0)\n",
      "Requirement already satisfied: joblib>=1.1.1 in c:\\users\\minh.nv193012\\appdata\\local\\anaconda3\\lib\\site-packages (from scikit-learn) (1.1.1)\n",
      "Requirement already satisfied: scipy>=1.5.0 in c:\\users\\minh.nv193012\\appdata\\local\\anaconda3\\lib\\site-packages (from scikit-learn) (1.10.0)\n",
      "Installing collected packages: scikit-learn\n",
      "  Attempting uninstall: scikit-learn\n",
      "    Found existing installation: scikit-learn 1.2.2\n",
      "    Uninstalling scikit-learn-1.2.2:\n",
      "      Successfully uninstalled scikit-learn-1.2.2\n",
      "Note: you may need to restart the kernel to use updated packages.\n"
     ]
    },
    {
     "name": "stderr",
     "output_type": "stream",
     "text": [
      "ERROR: Could not install packages due to an OSError: [WinError 5] Access is denied: 'C:\\\\Users\\\\MINH.NV193012\\\\AppData\\\\Local\\\\anaconda3\\\\Lib\\\\site-packages\\\\~-learn\\\\.libs\\\\msvcp140.dll'\n",
      "Consider using the `--user` option or check the permissions.\n",
      "\n"
     ]
    }
   ],
   "source": []
  },
  {
   "cell_type": "code",
   "execution_count": null,
   "outputs": [],
   "source": [],
   "metadata": {
    "collapsed": false
   }
  }
 ],
 "metadata": {
  "interpreter": {
   "hash": "029daf65db69d531e3e790e61475ea6f82ab3ad35fbaaf2f645ae9dad464b799"
  },
  "kernelspec": {
   "display_name": "Python 3.7.8 64-bit ('spam_detection_libs': venv)",
   "language": "python",
   "name": "python3"
  },
  "language_info": {
   "codemirror_mode": {
    "name": "ipython",
    "version": 3
   },
   "file_extension": ".py",
   "mimetype": "text/x-python",
   "name": "python",
   "nbconvert_exporter": "python",
   "pygments_lexer": "ipython3",
   "version": "3.7.8"
  },
  "orig_nbformat": 4
 },
 "nbformat": 4,
 "nbformat_minor": 2
}
